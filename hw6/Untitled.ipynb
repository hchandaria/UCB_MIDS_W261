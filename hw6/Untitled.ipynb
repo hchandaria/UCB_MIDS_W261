{
 "cells": [
  {
   "cell_type": "code",
   "execution_count": 4,
   "metadata": {
    "collapsed": true
   },
   "outputs": [],
   "source": [
    "from numpy import mat, zeros, shape, random, array, zeros_like, dot, linalg\n",
    "from random import sample\n",
    "import json\n",
    "from math import pi, sqrt, exp, pow"
   ]
  },
  {
   "cell_type": "code",
   "execution_count": 1,
   "metadata": {
    "collapsed": true
   },
   "outputs": [],
   "source": [
    "cent2=[[2.515657568629142, 0.012148642249462209], [-0.5366231121915682, 2.6151608380095324], [6.017971546486905, 7.132784550067225]]"
   ]
  },
  {
   "cell_type": "code",
   "execution_count": 2,
   "metadata": {
    "collapsed": false
   },
   "outputs": [
    {
     "data": {
      "text/plain": [
       "[[2.515657568629142, 0.012148642249462209],\n",
       " [-0.5366231121915682, 2.6151608380095324],\n",
       " [6.017971546486905, 7.132784550067225]]"
      ]
     },
     "execution_count": 2,
     "metadata": {},
     "output_type": "execute_result"
    }
   ],
   "source": [
    "cent2"
   ]
  },
  {
   "cell_type": "code",
   "execution_count": 10,
   "metadata": {
    "collapsed": false
   },
   "outputs": [
    {
     "data": {
      "text/plain": [
       "array([ 2.51565757,  0.01214864])"
      ]
     },
     "execution_count": 10,
     "metadata": {},
     "output_type": "execute_result"
    }
   ],
   "source": [
    "mean = array(cent2[0])\n",
    "mean"
   ]
  },
  {
   "cell_type": "code",
   "execution_count": 12,
   "metadata": {
    "collapsed": false
   },
   "outputs": [
    {
     "name": "stdout",
     "output_type": "stream",
     "text": [
      "before [ 2.66566867  3.25336468]\n",
      "[ 2.12904556  5.86852551]\n",
      "before [ 2.12904556  5.86852551]\n",
      "[  8.1470171   13.00131006]\n"
     ]
    },
    {
     "data": {
      "text/plain": [
       "array([ 2.71567237,  4.33377002])"
      ]
     },
     "execution_count": 12,
     "metadata": {},
     "output_type": "execute_result"
    }
   ],
   "source": [
    "for i in range(1,3):\n",
    "    print 'before',mean\n",
    "    mean = mean + array(cent2[i])\n",
    "    print mean\n",
    "mean = mean/float(3)\n",
    "mean"
   ]
  },
  {
   "cell_type": "code",
   "execution_count": 22,
   "metadata": {
    "collapsed": false
   },
   "outputs": [
    {
     "name": "stdout",
     "output_type": "stream",
     "text": [
      "Initial cov [[ 0.  0.]\n",
      " [ 0.  0.]]\n",
      "x [2.515657568629142, 0.012148642249462209]\n",
      "array [ 2.51565757  0.01214864]\n",
      "xmm [-0.2000148  -4.32162138]\n",
      "xmmsq 0.0400059196923\n",
      "x [-0.5366231121915682, 2.6151608380095324]\n",
      "array [-0.53662311  2.61516084]\n",
      "xmm [-3.25229548 -1.71860918]\n",
      "xmmsq 10.577425886\n",
      "x [6.017971546486905, 7.132784550067225]\n",
      "array [ 6.01797155  7.13278455]\n",
      "xmm [ 3.30229918  2.79901453]\n",
      "xmmsq 10.9051798688\n"
     ]
    }
   ],
   "source": [
    "cov = zeros((len(mean),len(mean)),dtype=float)\n",
    "print 'Initial cov',cov\n",
    "for x in cent2:\n",
    "    print 'x',x\n",
    "    print 'array',array(x)\n",
    "    xmm = array(x) - mean\n",
    "    print 'xmm',xmm\n",
    "    print 'xmmsq',xmm[0]*xmm[0]\n",
    "    for i in range(len(mean)):\n",
    "        cov[i,i] = cov[i,i] + xmm[i]*xmm[i]"
   ]
  },
  {
   "cell_type": "code",
   "execution_count": 23,
   "metadata": {
    "collapsed": false
   },
   "outputs": [
    {
     "data": {
      "text/plain": [
       "array([[ 21.52261167,   0.        ],\n",
       "       [  0.        ,  29.4645112 ]])"
      ]
     },
     "execution_count": 23,
     "metadata": {},
     "output_type": "execute_result"
    }
   ],
   "source": [
    "cov"
   ]
  },
  {
   "cell_type": "code",
   "execution_count": 24,
   "metadata": {
    "collapsed": false
   },
   "outputs": [
    {
     "name": "stdout",
     "output_type": "stream",
     "text": [
      "[[ 7.17420389  0.        ]\n",
      " [ 0.          9.82150373]]\n",
      "[[ 0.13938829  0.        ]\n",
      " [ 0.          0.1018174 ]]\n"
     ]
    }
   ],
   "source": [
    "cov = cov/(float(3))\n",
    "print cov\n",
    "covInv = linalg.inv(cov)\n",
    "print covInv"
   ]
  },
  {
   "cell_type": "code",
   "execution_count": 25,
   "metadata": {
    "collapsed": false
   },
   "outputs": [
    {
     "name": "stdout",
     "output_type": "stream",
     "text": [
      "[[[0.13938828825121014, 0.0], [0.0, 0.1018174026144369]], [[0.13938828825121014, 0.0], [0.0, 0.1018174026144369]], [[0.13938828825121014, 0.0], [0.0, 0.1018174026144369]]]\n"
     ]
    }
   ],
   "source": [
    "cov_1 = [covInv.tolist()]*3\n",
    "print cov_1"
   ]
  },
  {
   "cell_type": "code",
   "execution_count": null,
   "metadata": {
    "collapsed": true
   },
   "outputs": [],
   "source": [
    "\n",
    "fileOut = open(,'w')"
   ]
  }
 ],
 "metadata": {
  "kernelspec": {
   "display_name": "Python 2",
   "language": "python",
   "name": "python2"
  },
  "language_info": {
   "codemirror_mode": {
    "name": "ipython",
    "version": 2
   },
   "file_extension": ".py",
   "mimetype": "text/x-python",
   "name": "python",
   "nbconvert_exporter": "python",
   "pygments_lexer": "ipython2",
   "version": "2.7.11"
  }
 },
 "nbformat": 4,
 "nbformat_minor": 0
}
