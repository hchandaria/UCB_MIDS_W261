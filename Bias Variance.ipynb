{
 "cells": [
  {
   "cell_type": "code",
   "execution_count": 34,
   "metadata": {
    "collapsed": false
   },
   "outputs": [],
   "source": [
    "import numpy as np\n",
    "import math\n",
    "import matplotlib.pyplot as plt\n",
    "import pandas\n"
   ]
  },
  {
   "cell_type": "code",
   "execution_count": 16,
   "metadata": {
    "collapsed": true
   },
   "outputs": [],
   "source": [
    "%matplotlib inline"
   ]
  },
  {
   "cell_type": "code",
   "execution_count": 8,
   "metadata": {
    "collapsed": false
   },
   "outputs": [
    {
     "name": "stdout",
     "output_type": "stream",
     "text": [
      "[  0.           1.3962634    2.7925268    4.1887902    5.58505361\n",
      "   6.98131701   8.37758041   9.77384381  11.17010721  12.56637061]\n"
     ]
    }
   ],
   "source": [
    "x = np.linspace(0,4*np.pi,10)\n",
    "print x"
   ]
  },
  {
   "cell_type": "code",
   "execution_count": 13,
   "metadata": {
    "collapsed": false
   },
   "outputs": [
    {
     "name": "stdout",
     "output_type": "stream",
     "text": [
      "[  0.00000000e+00   9.84807753e-01   3.42020143e-01  -8.66025404e-01\n",
      "  -6.42787610e-01   6.42787610e-01   8.66025404e-01  -3.42020143e-01\n",
      "  -9.84807753e-01  -4.89858720e-16]\n"
     ]
    }
   ],
   "source": [
    "y = np.sin(x)\n",
    "print y"
   ]
  },
  {
   "cell_type": "code",
   "execution_count": 15,
   "metadata": {
    "collapsed": false
   },
   "outputs": [
    {
     "name": "stdout",
     "output_type": "stream",
     "text": [
      "[ -6.26063098e-05   2.75356932e-03  -4.63846935e-02   3.70152528e-01\n",
      "  -1.38082964e+00   1.90838484e+00  -1.14145411e-01   1.97270649e-04]\n"
     ]
    }
   ],
   "source": [
    "p =np.polyfit(x,y,7)\n",
    "print p"
   ]
  },
  {
   "cell_type": "code",
   "execution_count": 26,
   "metadata": {
    "collapsed": true
   },
   "outputs": [],
   "source": [
    "x1 = np.linspace(0,4*np.pi)\n",
    "y1 = np.polyval(p,x1)\n"
   ]
  },
  {
   "cell_type": "code",
   "execution_count": 27,
   "metadata": {
    "collapsed": false
   },
   "outputs": [
    {
     "data": {
      "text/plain": [
       "[<matplotlib.lines.Line2D at 0x1089483d0>]"
      ]
     },
     "execution_count": 27,
     "metadata": {},
     "output_type": "execute_result"
    },
    {
     "data": {
      "image/png": "[encoded data removed]",
      "text/plain": [
       "<matplotlib.figure.Figure at 0x10892b8d0>"
      ]
     },
     "metadata": {},
     "output_type": "display_data"
    }
   ],
   "source": [
    "plt.plot(x,y,'o')\n",
    "plt.plot(x1,y1)"
   ]
  },
  {
   "cell_type": "code",
   "execution_count": 28,
   "metadata": {
    "collapsed": false
   },
   "outputs": [
    {
     "name": "stdout",
     "output_type": "stream",
     "text": [
      "[  3.47715964e-18   1.29625865e-03  -4.07231667e-02   4.45202127e-01\n",
      "  -1.96111768e+00   2.83272103e+00  -3.40460085e-02]\n"
     ]
    }
   ],
   "source": [
    "#now fit a polynomial of degree 6\n",
    "p =np.polyfit(x,y,6)\n",
    "print p"
   ]
  },
  {
   "cell_type": "code",
   "execution_count": 30,
   "metadata": {
    "collapsed": false
   },
   "outputs": [
    {
     "name": "stdout",
     "output_type": "stream",
     "text": [
      "[-0.03404601  1.16185833  0.02190833 -0.72279417 -0.40486222  0.40486222\n",
      "  0.72279417 -0.02190833 -1.16185833  0.03404601]\n"
     ]
    }
   ],
   "source": [
    "f = np.polyval(p,x)\n",
    "print f"
   ]
  },
  {
   "cell_type": "code",
   "execution_count": 60,
   "metadata": {
    "collapsed": false
   },
   "outputs": [
    {
     "name": "stdout",
     "output_type": "stream",
     "text": [
      "          *X            *Y       Fit  Fit Error\n",
      "0   0.000000  0.000000e+00 -0.034046   0.034046\n",
      "1   1.396263  9.848078e-01  1.161858  -0.177051\n",
      "2   2.792527  3.420201e-01  0.021908   0.320112\n",
      "3   4.188790 -8.660254e-01 -0.722794  -0.143231\n",
      "4   5.585054 -6.427876e-01 -0.404862  -0.237925\n",
      "5   6.981317  6.427876e-01  0.404862   0.237925\n",
      "6   8.377580  8.660254e-01  0.722794   0.143231\n",
      "7   9.773844 -3.420201e-01 -0.021908  -0.320112\n",
      "8  11.170107 -9.848078e-01 -1.161858   0.177051\n",
      "9  12.566371 -4.898587e-16  0.034046  -0.034046\n"
     ]
    }
   ],
   "source": [
    "\n",
    "df = pandas.DataFrame({'*X':x, '*Y':y,'Fit':f,'Fit Error':(y-f)})\n",
    "\n",
    "print df\n"
   ]
  },
  {
   "cell_type": "code",
   "execution_count": 61,
   "metadata": {
    "collapsed": false
   },
   "outputs": [
    {
     "data": {
      "text/plain": [
       "[<matplotlib.lines.Line2D at 0x10a695350>]"
      ]
     },
     "execution_count": 61,
     "metadata": {},
     "output_type": "execute_result"
    },
    {
     "data": {
      "image/png": "[encoded data removed]",
      "text/plain": [
       "<matplotlib.figure.Figure at 0x10a5a3c90>"
      ]
     },
     "metadata": {},
     "output_type": "display_data"
    }
   ],
   "source": [
    "plt.plot(x,y,'o')"
   ]
  },
  {
   "cell_type": "code",
   "execution_count": null,
   "metadata": {
    "collapsed": true
   },
   "outputs": [],
   "source": []
  }
 ],
 "metadata": {
  "kernelspec": {
   "display_name": "Python 2",
   "language": "python",
   "name": "python2"
  },
  "language_info": {
   "codemirror_mode": {
    "name": "ipython",
    "version": 2
   },
   "file_extension": ".py",
   "mimetype": "text/x-python",
   "name": "python",
   "nbconvert_exporter": "python",
   "pygments_lexer": "ipython2",
   "version": "2.7.11"
  }
 },
 "nbformat": 4,
 "nbformat_minor": 0
}
