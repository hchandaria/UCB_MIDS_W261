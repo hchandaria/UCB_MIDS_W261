{
 "cells": [
  {
   "cell_type": "markdown",
   "metadata": {},
   "source": [
    "=====DATSCIW261 ASSIGNMENT #2=====\n",
    "\n",
    "MIDS UC Berkeley, Machine Learning at Scale\n",
    "\n",
    "DATSCIW261 ASSIGNMENT #2\n",
    "\n",
    "Version 2016-01-22"
   ]
  },
  {
   "cell_type": "markdown",
   "metadata": {},
   "source": [
    "### Hetal Chandaria (hetalchandaria@berkeley.edu)\n",
    "\n",
    "\n",
    "W261 - 2 , Assignment 01\n",
    "\n",
    "\n",
    "Submission Date : 01/18/2016"
   ]
  },
  {
   "cell_type": "markdown",
   "metadata": {},
   "source": [
    "### HW2.0.  \n",
    "What is a race condition in the context of parallel computation? Give an example.\n",
    "What is MapReduce?\n",
    "How does it differ from Hadoop?\n",
    "Which programming paradigm is Hadoop based on? Explain and give a simple example in code and show the code running."
   ]
  },
  {
   "cell_type": "markdown",
   "metadata": {},
   "source": [
    "#### Race Condition \n",
    "A race condition is a bug which occurs when two or more threads are trying to access the same shared memory location and update it , and the final result depends on the execution sequence of those threads.\n",
    "\n",
    "#### Race Condition example \n",
    "Consider a shared variable X\n",
    "1. Thread A \n",
    "\n",
    "    a. Read Variable X\n",
    "    \n",
    "    b. Compute X*2\n",
    "    \n",
    "    c. Assign to X\n",
    "    \n",
    "\n",
    "2. Thread B\n",
    "\n",
    "    a. Read Variable X\n",
    "\n",
    "    b. Compute X*2\n",
    "\n",
    "    c. Assign to X\n",
    "    \n",
    "Depending on the order of the threads the final value of X can be different\n",
    "\n",
    "1. A & B both read the value of X and final of X is same\n",
    "Final Result : X * 2\n",
    "\n",
    "2. A reads and update X first and than B reads and updates X. \n",
    "Final Result : X * 2 * 2\n",
    "\n",
    "\n",
    "#### Map Reduce \n",
    "MapReduce is a framework processing parallelizable problems across huge data sets, using a large number of computers (nodes); cluster or grid. User specify a map fnction that processes a key/value pair to generate intermediate key/value pairs and a reduce function that merges all values associated with the same intermediate key. \n",
    "\n",
    "Mapreduce is a programming model while the mapreduce library inside Hadoop is an implementation of MapReduce programming framework.\n",
    "\n",
    "Hadoop is built on the mapreduce and distributed file system concepts pioneered by Google.\n",
    "\n",
    "Below is a simple map reduce program that takes input a string of words and counts the frequency of each word. We sort the output before sending it to the reducer ( to simulate the hadoop mapreduce functionality). Mapper counts the frequency of each word and emits the output as < word, value> and the reducer generates the final frequency for each word.\n"
   ]
  },
  {
   "cell_type": "code",
   "execution_count": 15,
   "metadata": {
    "collapsed": false
   },
   "outputs": [
    {
     "name": "stdout",
     "output_type": "stream",
     "text": [
      "Overwriting mapper.py\n"
     ]
    }
   ],
   "source": [
    "%%writefile mapper.py\n",
    "#!/usr/bin/python\n",
    "import sys\n",
    "import re\n",
    "WORD_RE = re.compile(r\"[\\w']+\")\n",
    "# input comes from STDIN (standard input)\n",
    "for line in sys.stdin:\n",
    "    # remove leading and trailing whitespace\n",
    "    line = line.strip()\n",
    "    # split the line into words\n",
    "    words = re.findall(WORD_RE,line)\n",
    "    # increase counters\n",
    "    for key in words:\n",
    "        # write the results to STDOUT (standard output);\n",
    "        # what we output here will be the input for the\n",
    "        # Reduce step, i.e. the input for reducer.py\n",
    "        # tab-delimited; the trivial word count is 1\n",
    "        value = 1\n",
    "        print '%s\\t%s' % (key, 1)"
   ]
  },
  {
   "cell_type": "code",
   "execution_count": 31,
   "metadata": {
    "collapsed": false
   },
   "outputs": [
    {
     "name": "stdout",
     "output_type": "stream",
     "text": [
      "Overwriting reducer.py\n"
     ]
    }
   ],
   "source": [
    "%%writefile reducer.py\n",
    "#!/usr/bin/python\n",
    "from operator import itemgetter\n",
    "import sys\n",
    "\n",
    "last_key = None\n",
    "word = None\n",
    "total_count = 0\n",
    "# input comes from STDIN (standard input)\n",
    "for line in sys.stdin:\n",
    "    # remove leading and trailing whitespace\n",
    "    line = line.strip()\n",
    "\n",
    "    # parse the input we got from mapper.py\n",
    "    word, count = line.split('\\t', 1)\n",
    "    \n",
    "    #if current key is same as last_key than increment count \n",
    "    if(last_key == word):\n",
    "        total_count += int(count)\n",
    "    else:\n",
    "        if (last_key):\n",
    "            print '%s\\t%s' %(last_key,total_count)\n",
    "        total_count = int(count)\n",
    "        last_key = word\n",
    "if last_key == word:\n",
    "    print '%s\\t%s' %(last_key,total_count)"
   ]
  },
  {
   "cell_type": "code",
   "execution_count": 32,
   "metadata": {
    "collapsed": true
   },
   "outputs": [],
   "source": [
    "!chmod a+x mapper.py; chmod a+x reducer.py"
   ]
  },
  {
   "cell_type": "code",
   "execution_count": 33,
   "metadata": {
    "collapsed": false
   },
   "outputs": [
    {
     "name": "stdout",
     "output_type": "stream",
     "text": [
      "be\t1\r\n",
      "does\t2\r\n",
      "even\t1\r\n",
      "it\t1\r\n",
      "may\t1\r\n",
      "this\t1\r\n",
      "work\t2\r\n"
     ]
    }
   ],
   "source": [
    "!echo \"does this even work may be it does work\" | python mapper.py | sort -k1,1 | python reducer.py"
   ]
  },
  {
   "cell_type": "code",
   "execution_count": 489,
   "metadata": {
    "collapsed": false
   },
   "outputs": [
    {
     "name": "stdout",
     "output_type": "stream",
     "text": [
      "16/01/25 21:36:17 WARN util.NativeCodeLoader: Unable to load native-hadoop library for your platform... using builtin-java classes where applicable\n",
      "mkdir: `hw2': File exists\n",
      "16/01/25 21:36:19 WARN util.NativeCodeLoader: Unable to load native-hadoop library for your platform... using builtin-java classes where applicable\n",
      "mkdir: `hw2/src': File exists\n",
      "16/01/25 21:36:20 WARN util.NativeCodeLoader: Unable to load native-hadoop library for your platform... using builtin-java classes where applicable\n",
      "mkdir: `hw2/output': File exists\n"
     ]
    }
   ],
   "source": [
    "#### Create directories in HDFS for below jobs\n",
    "!hdfs dfs -mkdir hw2\n",
    "!hdfs dfs -mkdir hw2/src\n",
    "!hdfs dfs -mkdir hw2/output"
   ]
  },
  {
   "cell_type": "markdown",
   "metadata": {},
   "source": [
    "### HW2.1. \n",
    "Sort in Hadoop MapReduce\n",
    "\n",
    "Given as input: Records of the form $<integer, “NA”>$, where integer is any integer, and “NA” is just the empty string.\n",
    "Output: sorted key value pairs of the form $<integer, “NA”>$ in decreasing order; what happens if you have multiple reducers? Do you need additional steps? Explain.\n",
    "\n",
    "Write code to generate N  random records of the form $<integer, “NA”>$. Let N = 10,000.\n",
    "Write the python Hadoop streaming map-reduce job to perform this sort. Display the top 10 biggest numbers. Display the 10 smallest numbers"
   ]
  },
  {
   "cell_type": "markdown",
   "metadata": {},
   "source": [
    "<span style=\"color:blue;\">Number Generator</span>"
   ]
  },
  {
   "cell_type": "code",
   "execution_count": 129,
   "metadata": {
    "collapsed": false
   },
   "outputs": [],
   "source": [
    "import numpy as np\n",
    "\n",
    "N = 10000\n",
    "numbers = np.random.randint(N, size=N)\n",
    "f = open('numbers_input.txt', 'w')\n",
    "for number in numbers:\n",
    "    s = str(number)+\",\"+\"NA\"+\"\\n\"\n",
    "    f.write(s)\n",
    "f.close()"
   ]
  },
  {
   "cell_type": "code",
   "execution_count": 131,
   "metadata": {
    "collapsed": false
   },
   "outputs": [
    {
     "name": "stdout",
     "output_type": "stream",
     "text": [
      "16/01/23 22:06:03 WARN util.NativeCodeLoader: Unable to load native-hadoop library for your platform... using builtin-java classes where applicable\n",
      "Deleted hw2/src/numbers_input.txt\n",
      "16/01/23 22:06:05 WARN util.NativeCodeLoader: Unable to load native-hadoop library for your platform... using builtin-java classes where applicable\n"
     ]
    }
   ],
   "source": [
    "#move input file into hdfs\n",
    "!hdfs dfs -rm hw2/src/numbers_input.txt\n",
    "!hdfs dfs -put numbers_input.txt hw2/src/"
   ]
  },
  {
   "cell_type": "markdown",
   "metadata": {},
   "source": [
    "<span style=\"color:blue;\">Mapper for sort</span>"
   ]
  },
  {
   "cell_type": "code",
   "execution_count": 523,
   "metadata": {
    "collapsed": false
   },
   "outputs": [
    {
     "name": "stdout",
     "output_type": "stream",
     "text": [
      "Overwriting mapper.py\n"
     ]
    }
   ],
   "source": [
    "%%writefile mapper.py\n",
    "#!/usr/bin/python\n",
    "\n",
    "import sys\n",
    "import numpy as np\n",
    "\n",
    "        \n",
    "def main():\n",
    "    # input comes from STDIN (standard input)\n",
    "    for line in sys.stdin:\n",
    "        line = line.strip()\n",
    "        # write the results to STDOUT (standard output);\n",
    "        # what we output here will be the input for the\n",
    "        # Reduce step, i.e. the input for reducer.py\n",
    "        print line\n",
    "\n",
    "if __name__ == \"__main__\":\n",
    "    main()"
   ]
  },
  {
   "cell_type": "code",
   "execution_count": 524,
   "metadata": {
    "collapsed": false
   },
   "outputs": [
    {
     "name": "stdout",
     "output_type": "stream",
     "text": [
      "Overwriting reducer.py\n"
     ]
    }
   ],
   "source": [
    "%%writefile reducer.py\n",
    "#!/usr/bin/python\n",
    "\n",
    "from itertools import groupby\n",
    "from operator import itemgetter\n",
    "import sys\n",
    "import re\n",
    "\n",
    "\n",
    "def main():\n",
    "    # input comes from STDIN (standard input)\n",
    "    for line in sys.stdin:\n",
    "        # remove leading and trailing whitespace\n",
    "        line = line.strip()\n",
    "        num = re.split(',',line)\n",
    "        print num[0]\n",
    "\n",
    "\n",
    "if __name__ == \"__main__\":\n",
    "    main()"
   ]
  },
  {
   "cell_type": "code",
   "execution_count": 525,
   "metadata": {
    "collapsed": true
   },
   "outputs": [],
   "source": [
    "!chmod a+x mapper.py; chmod a+x reducer.py"
   ]
  },
  {
   "cell_type": "markdown",
   "metadata": {},
   "source": [
    "#### Function for running the hadoop job\n",
    "\n",
    "##### Note on descending sorting of mapper\n",
    "\n",
    "Hadoop has a library class, KeyFieldBasedComparator, that is useful for many applications. This class provides a subset of features provided by the Unix/GNU Sort.\n",
    "\n",
    "We have added below 2 options to the hadoop command\n",
    "-D mapred.output.key.comparator.class=org.apache.hadoop.mapred.lib.KeyFieldBasedComparator should be added to streaming command\n",
    "\n",
    "-D mapred.text.key.comparator.options=-nr\n",
    "\n",
    "Here, -n specifies that the sorting is numerical sorting and -r specifies that the result should be reversed."
   ]
  },
  {
   "cell_type": "code",
   "execution_count": 526,
   "metadata": {
    "collapsed": false
   },
   "outputs": [
    {
     "name": "stdout",
     "output_type": "stream",
     "text": [
      "16/01/25 22:03:28 WARN util.NativeCodeLoader: Unable to load native-hadoop library for your platform... using builtin-java classes where applicable\n",
      "Deleted hw2/output/SortOutput\n",
      "16/01/25 22:03:30 WARN streaming.StreamJob: -jobconf option is deprecated, please use -D instead.\n",
      "16/01/25 22:03:30 WARN util.NativeCodeLoader: Unable to load native-hadoop library for your platform... using builtin-java classes where applicable\n",
      "\n",
      "\n",
      "Top 10 biggest number\n",
      "16/01/25 22:03:33 WARN util.NativeCodeLoader: Unable to load native-hadoop library for your platform... using builtin-java classes where applicable\n",
      "9999\t\n",
      "9999\t\n",
      "9998\t\n",
      "9998\t\n",
      "9993\t\n",
      "9989\t\n",
      "9988\t\n",
      "9988\t\n",
      "9987\t\n",
      "9987\t\n",
      "cat: Unable to write to output stream.\n",
      "\n",
      "\n",
      "\n",
      "Top 10 smallest number\n",
      "16/01/25 22:03:34 WARN util.NativeCodeLoader: Unable to load native-hadoop library for your platform... using builtin-java classes where applicable\n",
      "8\t\n",
      "7\t\n",
      "7\t\n",
      "5\t\n",
      "5\t\n",
      "3\t\n",
      "1\t\n",
      "1\t\n",
      "0\t\n",
      "0\t\n"
     ]
    }
   ],
   "source": [
    "def hw2_1():\n",
    "    #remove output directory if present else hadoop job gives error\n",
    "    !hdfs dfs -rm -r hw2/output/SortOutput\n",
    "    \n",
    "    # run map reduce job\n",
    "    !hadoop jar /usr/local/Cellar/hadoop/2.7.1/libexec/share/hadoop/tools/lib/hadoop-*streaming*.jar \\\n",
    "    -D mapred.output.key.comparator.class=org.apache.hadoop.mapred.lib.KeyFieldBasedComparator \\\n",
    "    -D mapred.text.key.comparator.options=-nr \\\n",
    "    -mapper mapper.py \\\n",
    "    -reducer reducer.py \\\n",
    "    -input hw2/src/numbers_input.txt \\\n",
    "    -output hw2/output/SortOutput \\\n",
    "    -jobconf mapred.map.tasks=10 \\\n",
    "    -jobconf mapred.reduce.tasks=1 \\\n",
    "    \n",
    "    print \"\\n\"\n",
    "    !echo \"Top 10 biggest number\"\n",
    "    !hdfs dfs -cat hw2/output/SortOutput/part* | head -10\n",
    "    print \"\\n\\n\"\n",
    "    !echo \"Top 10 smallest number\"\n",
    "    !hdfs dfs -cat hw2/output/SortOutput/part* | tail -10\n",
    "\n",
    "\n",
    "hw2_1()\n",
    "\n"
   ]
  },
  {
   "cell_type": "markdown",
   "metadata": {
    "collapsed": false
   },
   "source": [
    "########### \n",
    "\n",
    "\n",
    "If we run the Job using multiple reducers than we need to do a final merge sort on the combined output of all reducers to get a final single ordered output. Another option would be to use a custom partioner if the data range is known and partition it such that subsets of the data range are passed to a given reducer. This can be used for ensuring the reducers generate their output into a defined totally sorted output.\n",
    "\n",
    "The code below runs using 2 reducers. In this case there are two output files which are individually sorted but need a final merge sort. A simple option for doing this sort would be to run a second MapReduce job with a single reducer to sort the data.\n"
   ]
  },
  {
   "cell_type": "code",
   "execution_count": 527,
   "metadata": {
    "collapsed": false
   },
   "outputs": [
    {
     "name": "stdout",
     "output_type": "stream",
     "text": [
      "16/01/25 22:03:39 WARN util.NativeCodeLoader: Unable to load native-hadoop library for your platform... using builtin-java classes where applicable\n",
      "Deleted hw2/output/SortOutput2\n",
      "16/01/25 22:03:40 WARN streaming.StreamJob: -jobconf option is deprecated, please use -D instead.\n",
      "16/01/25 22:03:41 WARN util.NativeCodeLoader: Unable to load native-hadoop library for your platform... using builtin-java classes where applicable\n"
     ]
    }
   ],
   "source": [
    "def hw2_1_2():\n",
    "    #remove output directory if present else hadoop job gives error\n",
    "    !hdfs dfs -rm -r hw2/output/SortOutput2\n",
    "    \n",
    "    # run map reduce job\n",
    "    !hadoop jar /usr/local/Cellar/hadoop/2.7.1/libexec/share/hadoop/tools/lib/hadoop-*streaming*.jar \\\n",
    "    -D mapred.output.key.comparator.class=org.apache.hadoop.mapred.lib.KeyFieldBasedComparator \\\n",
    "    -D mapred.text.key.comparator.options=-nr \\\n",
    "    -mapper mapper.py \\\n",
    "    -reducer reducer.py \\\n",
    "    -input hw2/src/numbers_input.txt \\\n",
    "    -output hw2/output/SortOutput2 \\\n",
    "    -jobconf mapred.map.tasks=10 \\\n",
    "    -jobconf mapred.reduce.tasks=2 \\\n",
    "    \n",
    "hw2_1_2()\n",
    "\n"
   ]
  },
  {
   "cell_type": "code",
   "execution_count": 528,
   "metadata": {
    "collapsed": false
   },
   "outputs": [
    {
     "name": "stdout",
     "output_type": "stream",
     "text": [
      "Overwriting reducer.py\n"
     ]
    }
   ],
   "source": [
    "%%writefile reducer.py\n",
    "#!/usr/bin/python\n",
    "\n",
    "from itertools import groupby\n",
    "from operator import itemgetter\n",
    "import sys\n",
    "import re\n",
    "\n",
    "\n",
    "def main():\n",
    "    # input comes from STDIN (standard input)\n",
    "    for line in sys.stdin:\n",
    "        # remove leading and trailing whitespace\n",
    "        line = line.strip()\n",
    "        print line\n",
    "\n",
    "\n",
    "if __name__ == \"__main__\":\n",
    "    main()"
   ]
  },
  {
   "cell_type": "code",
   "execution_count": 529,
   "metadata": {
    "collapsed": false
   },
   "outputs": [
    {
     "name": "stdout",
     "output_type": "stream",
     "text": [
      "16/01/25 22:03:48 WARN util.NativeCodeLoader: Unable to load native-hadoop library for your platform... using builtin-java classes where applicable\n",
      "Deleted hw2/output/SortOutput3\n",
      "16/01/25 22:03:50 WARN streaming.StreamJob: -jobconf option is deprecated, please use -D instead.\n",
      "16/01/25 22:03:50 WARN util.NativeCodeLoader: Unable to load native-hadoop library for your platform... using builtin-java classes where applicable\n",
      "\n",
      "\n",
      "Top 10 biggest number\n",
      "16/01/25 22:03:53 WARN util.NativeCodeLoader: Unable to load native-hadoop library for your platform... using builtin-java classes where applicable\n",
      "9999\t\n",
      "9999\t\n",
      "9998\t\n",
      "9998\t\n",
      "9993\t\n",
      "9989\t\n",
      "9988\t\n",
      "9988\t\n",
      "9987\t\n",
      "9987\t\n",
      "cat: Unable to write to output stream.\n",
      "\n",
      "\n",
      "\n",
      "Top 10 smallest number\n",
      "16/01/25 22:03:54 WARN util.NativeCodeLoader: Unable to load native-hadoop library for your platform... using builtin-java classes where applicable\n",
      "8\t\n",
      "7\t\n",
      "7\t\n",
      "5\t\n",
      "5\t\n",
      "3\t\n",
      "1\t\n",
      "1\t\n",
      "0\t\n",
      "0\t\n"
     ]
    }
   ],
   "source": [
    "#Rerunning the above job but with only reducer will do the job \n",
    "def hw2_1_3():\n",
    "    #remove output directory if present else hadoop job gives error\n",
    "    !hdfs dfs -rm -r hw2/output/SortOutput3\n",
    "    \n",
    "    # run map reduce job\n",
    "    !hadoop jar /usr/local/Cellar/hadoop/2.7.1/libexec/share/hadoop/tools/lib/hadoop-*streaming*.jar \\\n",
    "    -D mapred.output.key.comparator.class=org.apache.hadoop.mapred.lib.KeyFieldBasedComparator \\\n",
    "    -D mapred.text.key.comparator.options=-nr \\\n",
    "    -mapper mapper.py \\\n",
    "    -reducer reducer.py \\\n",
    "    -input hw2/output/SortOutput2/ \\\n",
    "    -output hw2/output/SortOutput3 \\\n",
    "    -jobconf mapred.map.tasks=10 \\\n",
    "    -jobconf mapred.reduce.tasks=1 \n",
    "    \n",
    "    print \"\\n\"\n",
    "    !echo \"Top 10 biggest number\"\n",
    "    !hdfs dfs -cat hw2/output/SortOutput3/part-00000 | head\n",
    "    print \"\\n\\n\"\n",
    "    !echo \"Top 10 smallest number\"\n",
    "    !hdfs dfs -cat hw2/output/SortOutput3/part-00000 | tail\n",
    "    \n",
    "hw2_1_3()"
   ]
  },
  {
   "cell_type": "markdown",
   "metadata": {},
   "source": [
    "### HW2.2.  \n",
    "WORDCOUNT\n",
    "\n",
    "Using the Enron data from HW1 and Hadoop MapReduce streaming, write the mapper/reducer job that  will determine the word count (number of occurrences) of each white-space delimitted token (assume spaces, fullstops, comma as delimiters). Examine the word “assistance” and report its word count results."
   ]
  },
  {
   "cell_type": "code",
   "execution_count": 530,
   "metadata": {
    "collapsed": false
   },
   "outputs": [
    {
     "name": "stdout",
     "output_type": "stream",
     "text": [
      "16/01/25 22:04:58 WARN util.NativeCodeLoader: Unable to load native-hadoop library for your platform... using builtin-java classes where applicable\n",
      "Deleted hw2/src/enronemail_1h.txt\n",
      "16/01/25 22:05:00 WARN util.NativeCodeLoader: Unable to load native-hadoop library for your platform... using builtin-java classes where applicable\n"
     ]
    }
   ],
   "source": [
    "#move input file into hdfs\n",
    "!hdfs dfs -rm hw2/src/enronemail_1h.txt\n",
    "!hdfs dfs -put enronemail_1h.txt hw2/src/"
   ]
  },
  {
   "cell_type": "code",
   "execution_count": 531,
   "metadata": {
    "collapsed": false
   },
   "outputs": [
    {
     "name": "stdout",
     "output_type": "stream",
     "text": [
      "Overwriting mapper.py\n"
     ]
    }
   ],
   "source": [
    "%%writefile mapper.py\n",
    "#!/usr/bin/python\n",
    "\n",
    "import sys\n",
    "import re\n",
    "\n",
    "WORD_RE = re.compile(r\"[\\w']+\")\n",
    "       \n",
    "def main():\n",
    "    # input comes from STDIN (standard input)\n",
    "    for line in sys.stdin:\n",
    "        # remove leading and trailing whitespace\n",
    "        line = line.strip()\n",
    "        # Split the line by <TAB> delimiter\n",
    "        content = re.split(r'\\t+', line)\n",
    "        # verify correct content structure else ignore bad data\n",
    "        if len(content) <> 4:\n",
    "            continue\n",
    "        #Combine email subject and body\n",
    "        text = content[2] + ' ' + content[3]\n",
    "        #tokenize email and subject\n",
    "        result = re.findall(WORD_RE,text)\n",
    "        # write the results to STDOUT (standard output);\n",
    "        # what we output here will be the input for the\n",
    "        # Reduce step, i.e. the input for reducer.py\n",
    "        for key in result:\n",
    "            print '%s\\t%s' % (key.lower(), 1)\n",
    "if __name__ == \"__main__\":\n",
    "    main()"
   ]
  },
  {
   "cell_type": "code",
   "execution_count": 532,
   "metadata": {
    "collapsed": false
   },
   "outputs": [
    {
     "name": "stdout",
     "output_type": "stream",
     "text": [
      "Overwriting reducer.py\n"
     ]
    }
   ],
   "source": [
    "%%writefile reducer.py\n",
    "#!/usr/bin/python\n",
    "\n",
    "from itertools import groupby\n",
    "from operator import itemgetter\n",
    "import sys\n",
    "\n",
    "def main():\n",
    "    last_key = None\n",
    "    word = None\n",
    "    total_count = 0\n",
    "    # input comes from STDIN (standard input)\n",
    "    for line in sys.stdin:\n",
    "        # remove leading and trailing whitespace\n",
    "        line = line.strip()\n",
    "\n",
    "        # parse the input we got from mapper.py\n",
    "        word, count = line.split('\\t', 1)\n",
    "\n",
    "        #if current key is same as last_key than increment count \n",
    "        if(last_key == word):\n",
    "            total_count += int(count)\n",
    "        else:\n",
    "            if (last_key):\n",
    "                # write result to STDOUT\n",
    "                print '%s\\t%s' %(last_key,total_count)\n",
    "            total_count = int(count)\n",
    "            last_key = word\n",
    "    if last_key == word:\n",
    "        print '%s\\t%s' %(last_key,total_count)\n",
    "\n",
    "if __name__ == \"__main__\":\n",
    "    main()"
   ]
  },
  {
   "cell_type": "code",
   "execution_count": 533,
   "metadata": {
    "collapsed": false
   },
   "outputs": [
    {
     "name": "stdout",
     "output_type": "stream",
     "text": [
      "16/01/25 22:05:16 WARN util.NativeCodeLoader: Unable to load native-hadoop library for your platform... using builtin-java classes where applicable\n",
      "Deleted hw2/output/WordCountOutput\n",
      "16/01/25 22:05:17 WARN util.NativeCodeLoader: Unable to load native-hadoop library for your platform... using builtin-java classes where applicable\n"
     ]
    }
   ],
   "source": [
    "def hw2_2():\n",
    "    #remove output directory if present else hadoop job gives error\n",
    "    !hdfs dfs -rm -r hw2/output/WordCountOutput\n",
    "    \n",
    "    # run map reduce job\n",
    "    !hadoop jar /usr/local/Cellar/hadoop/2.7.1/libexec/share/hadoop/tools/lib/hadoop-*streaming*.jar \\\n",
    "    -mapper mapper.py \\\n",
    "    -reducer reducer.py \\\n",
    "    -input hw2/src/enronemail_1h.txt \\\n",
    "    -output hw2/output/WordCountOutput \n",
    "    \n",
    "\n",
    "hw2_2()"
   ]
  },
  {
   "cell_type": "code",
   "execution_count": 534,
   "metadata": {
    "collapsed": false
   },
   "outputs": [
    {
     "name": "stdout",
     "output_type": "stream",
     "text": [
      "16/01/25 22:05:23 WARN util.NativeCodeLoader: Unable to load native-hadoop library for your platform... using builtin-java classes where applicable\r\n"
     ]
    }
   ],
   "source": [
    "!hdfs dfs -cat hw2/output/WordCountOutput/part* > WC_22.txt"
   ]
  },
  {
   "cell_type": "code",
   "execution_count": 651,
   "metadata": {
    "collapsed": false
   },
   "outputs": [
    {
     "name": "stdout",
     "output_type": "stream",
     "text": [
      "16/01/25 23:35:05 WARN util.NativeCodeLoader: Unable to load native-hadoop library for your platform... using builtin-java classes where applicable\n",
      "Frequency of :assistance\n",
      "            key  frequency\n",
      "728  assistance         10\n"
     ]
    }
   ],
   "source": [
    "import pandas as pd\n",
    "\n",
    "def hw22_output(findword):\n",
    "    #move the output file from HDFS to local file system\n",
    "    !hdfs dfs -cat hw2/output/WordCountOutput/part* > WC_22.txt\n",
    "    df = pd.read_csv(\"WC_22.txt\",sep='\\t',header=None)\n",
    "    df.columns = ['key', 'frequency']\n",
    "    frequency = df[df.key == findword]\n",
    "    print \"Frequency of :\"+findword\n",
    "    print frequency\n",
    "    \n",
    "hw22_output('assistance')"
   ]
  },
  {
   "cell_type": "markdown",
   "metadata": {},
   "source": [
    "### HW2.2.1  \n",
    "Using Hadoop MapReduce and your wordcount job (from HW2.2) determine the top-10 occurring tokens (most frequent tokens)"
   ]
  },
  {
   "cell_type": "code",
   "execution_count": 652,
   "metadata": {
    "collapsed": false
   },
   "outputs": [
    {
     "name": "stdout",
     "output_type": "stream",
     "text": [
      "16/01/25 23:35:59 WARN util.NativeCodeLoader: Unable to load native-hadoop library for your platform... using builtin-java classes where applicable\n",
      "Top 10 fequently occuring tokens\n",
      "       key  frequency\n",
      "2182   for        366\n",
      "1801   ect        382\n",
      "5412  your        391\n",
      "2649    in        411\n",
      "5405   you        432\n",
      "413      a        531\n",
      "3497    of        554\n",
      "614    and        638\n",
      "4934    to        954\n",
      "4863   the       1225\n"
     ]
    }
   ],
   "source": [
    "import pandas as pd\n",
    "\n",
    "def hw221_output():\n",
    "    #move the output file from HDFS to local file system\n",
    "    !hdfs dfs -cat hw2/output/WordCountOutput/part* > WC_22.txt\n",
    "    df = pd.read_csv(\"WC_22.txt\",sep='\\t',header=None)\n",
    "    df.columns = ['key', 'frequency']\n",
    "    df=df.sort_values(['frequency'])\n",
    "    print \"Top 10 fequently occuring tokens\"\n",
    "    print df.tail(10)\n",
    "    \n",
    "hw221_output()"
   ]
  },
  {
   "cell_type": "markdown",
   "metadata": {},
   "source": [
    "### HW2.3. Multinomial NAIVE BAYES with NO Smoothing\n",
    "\n",
    "HW2.3. Multinomial NAIVE BAYES with NO Smoothing\n",
    "Using the Enron data from HW1 and Hadoop MapReduce, write  a mapper/reducer job(s) that\n",
    "   will both learn  Naive Bayes classifier and classify the Enron email messages using the learnt Naive Bayes classifier. Use all white-space delimitted tokens as independent input variables (assume spaces, fullstops, commas as delimiters). Note: for multinomial Naive Bayes, the Pr(X=“assistance”|Y=SPAM) is calculated as follows:\n",
    "\n",
    "   the number of times “assistance” occurs in SPAM labeled documents / the number of words in documents labeled SPAM \n",
    "\n",
    "   E.g.,   “assistance” occurs 5 times in all of the documents Labeled SPAM, and the length in terms of the number of words in all documents labeled as SPAM (when concatenated) is 1,000. Then Pr(X=“assistance”|Y=SPAM) = 5/1000. Note this is a multinomial estimation of the class conditional for a Naive Bayes Classifier. No smoothing is needed in this HW. Multiplying lots of probabilities, which are between 0 and 1, can result in floating-point underflow. Since log(xy) = log(x) + log(y), it is better to perform all computations by summing logs of probabilities rather than multiplying probabilities. Please pay attention to probabilites that are zero! They will need special attention. Count up how many times you need to process a zero probabilty for each class and report. \n",
    "\n",
    "   Report the performance of your learnt classifier in terms of misclassifcation error rate of your multinomial Naive Bayes Classifier. Plot a histogram of the  posterior probabilities (i.e., Pr(Class|Doc)) for each class over the training set. Summarize what you see. \n",
    "\n",
    "   Error Rate = misclassification rate with respect to a provided set (say training set in this case). It is more formally defined here:\n",
    "\n",
    "Let DF represent the evalution set in the following:\n",
    "Err(Model, DF) = |{(X, c(X)) ∈ DF : c(X) != Model(x)}|   / |DF|\n",
    "\n",
    "Where || denotes set cardinality; c(X) denotes the class of the tuple X in DF; and Model(X) denotes the class inferred by the Model “Model”"
   ]
  },
  {
   "cell_type": "markdown",
   "metadata": {},
   "source": [
    "<span style=\"color:blue;\">Mapper 1</span>\n",
    "\n",
    "In this implementation of Multinomial Naive Bayes we will use 2 mapreduce jobs instead of one.\n",
    "\n",
    "Mapper 1 Output :\n",
    "```\n",
    "For each email, mapper outputs overall document class and than emits each word along with its frequency\n",
    "\"DOC_CLASS\" 1 or 0\n",
    "\"word\" \"Spam or Ham : 1 or 0\" \"frequency of word\"\n",
    "```"
   ]
  },
  {
   "cell_type": "code",
   "execution_count": 548,
   "metadata": {
    "collapsed": false
   },
   "outputs": [
    {
     "name": "stdout",
     "output_type": "stream",
     "text": [
      "Overwriting mapper1.py\n"
     ]
    }
   ],
   "source": [
    "%%writefile mapper1.py\n",
    "#!/usr/bin/python\n",
    "#Mapper HW 2.3\n",
    "# This mapper will go through each email and emit the count of each word alng with document class\n",
    "import sys\n",
    "import re\n",
    "count = 0\n",
    "WORD_RE = re.compile(r\"[\\w']+\")\n",
    "\n",
    " \n",
    "# input comes from STDIN (standard input)\n",
    "for line in sys.stdin:\n",
    "        # Split the line by <TAB> delimiter\n",
    "        content = re.split(r'\\t+', line)\n",
    "        # verify correct content structure else ignore bad data\n",
    "        if len(content) <> 4:\n",
    "            continue\n",
    "        #combine email subject and body  and remove leading and trailing spacers\n",
    "        text = \" \".join(content[-2:]).strip()\n",
    "        # Find all words\n",
    "        result = re.findall(WORD_RE,text)\n",
    "\n",
    "        #build a vocabluary of words \n",
    "        vocab ={}\n",
    "        for w in result:\n",
    "            word = w.lower()\n",
    "            if word in vocab:\n",
    "                vocab[word] += 1\n",
    "            else:\n",
    "                vocab[word] = 1\n",
    "                \n",
    "        doc_class = content[1]       \n",
    "        for key, value in vocab.iteritems():\n",
    "            print key + \",\" +str(doc_class)+\"\\t\" +str(value)\n",
    "            \n",
    "        #emit SPAM or HAM for document counts \n",
    "        print \"DOC_CLASS,\"+str(doc_class) "
   ]
  },
  {
   "cell_type": "markdown",
   "metadata": {},
   "source": [
    "<span style=\"color:blue;\">Reducer 1</span>\n"
   ]
  },
  {
   "cell_type": "code",
   "execution_count": 559,
   "metadata": {
    "collapsed": false
   },
   "outputs": [
    {
     "name": "stdout",
     "output_type": "stream",
     "text": [
      "Overwriting reducer1.py\n"
     ]
    }
   ],
   "source": [
    "%%writefile reducer1.py\n",
    "#!/usr/bin/python\n",
    "\n",
    "from itertools import groupby\n",
    "from operator import itemgetter\n",
    "import sys\n",
    "import re\n",
    "import math\n",
    "\n",
    "spam_email_cnt  = 0 # Total count of spam emails \n",
    "ham_email_cnt = 0 #Total count of non spam emails \n",
    "total_spam_words = 0 #Total count of words in all spam emails \n",
    "total_ham_words = 0 # Total count of words in all non spam emails \n",
    "spam_words_freq = {} # Dictionary to store overall frequency of words for spam emails\n",
    "ham_words_freq ={} # Dictionary to store overall frequency of words for non spam emails\n",
    "\n",
    "for line in sys.stdin:\n",
    "    # remove leading and trailing whitespace\n",
    "    line = line.strip()\n",
    "\n",
    "    # parse the input we got from mapper.py\n",
    "    key, value = line.split(',', 1)\n",
    "    \n",
    "    if(key ==\"DOC_CLASS\"):\n",
    "        #increment spam or ham count \n",
    "        spam_email_cnt += int(value)\n",
    "        ham_email_cnt += not(int(value))\n",
    "        continue\n",
    "    \n",
    "    # Split the value by <TAB> delimiter\n",
    "    values = re.split(r'\\t+', value)\n",
    "\n",
    "    #Parse the values\n",
    "    true_class,freq = int(values[0]), int(values[1])\n",
    "    word = key\n",
    "             \n",
    "    #increment spam words, total spam words,ham words, total ham words  based on class of email\n",
    "    if (true_class == 1):\n",
    "        total_spam_words += freq;\n",
    "        if word in spam_words_freq:\n",
    "            spam_words_freq[word] += freq\n",
    "        else:\n",
    "            spam_words_freq[word] = freq\n",
    "        if word not in ham_words_freq:\n",
    "            ham_words_freq[word] = 0\n",
    "    else:\n",
    "        total_ham_words += freq;\n",
    "        if word in ham_words_freq:\n",
    "            ham_words_freq[word] += freq\n",
    "        else:\n",
    "            ham_words_freq[word] = freq\n",
    "        if word not in spam_words_freq:\n",
    "            spam_words_freq[word] = 0\n",
    "\n",
    "#Now calculate prior probabilities for spam & ham\n",
    "p_sp = (1.0)*spam_email_cnt / (spam_email_cnt + ham_email_cnt )\n",
    "prior_spam = math.log(p_sp)\n",
    "prior_ham = math.log(1-p_sp)\n",
    "\n",
    "#output the prior probabilities\n",
    "print \"OVERALL,\"+str(prior_spam)+\",\"+str(prior_ham)\n",
    "\n",
    "# Calculate Conditional Probability of word given email class spam and ham\n",
    "pr_word_spam = {}\n",
    "pr_word_ham = {}\n",
    "for word in ham_words_freq:\n",
    "    #if findword frequency is greater than 0 than calculate probability else set the value to smallest possible value\n",
    "    if(spam_words_freq[word] > 0 ):\n",
    "        pr_word_spam[word] = math.log((1.0)*(spam_words_freq[word])/ (total_spam_words))\n",
    "    else:\n",
    "        #setting value to 0\n",
    "        pr_word_spam[word] = 0      \n",
    "    if(ham_words_freq[word] > 0):\n",
    "        pr_word_ham[word] = math.log((1.0)*(ham_words_freq[word])/(total_ham_words))\n",
    "    else:\n",
    "        pr_word_ham[word] = 0\n",
    "    print word+\",\"+str(pr_word_spam[word])+\",\"+str(pr_word_ham[word])"
   ]
  },
  {
   "cell_type": "code",
   "execution_count": 560,
   "metadata": {
    "collapsed": false
   },
   "outputs": [
    {
     "name": "stdout",
     "output_type": "stream",
     "text": [
      "16/01/25 22:20:38 WARN util.NativeCodeLoader: Unable to load native-hadoop library for your platform... using builtin-java classes where applicable\n",
      "Deleted hw2/output/ModelOutput_23\n",
      "16/01/25 22:20:39 WARN util.NativeCodeLoader: Unable to load native-hadoop library for your platform... using builtin-java classes where applicable\n",
      "16/01/25 22:20:42 WARN util.NativeCodeLoader: Unable to load native-hadoop library for your platform... using builtin-java classes where applicable\n",
      "16/01/25 22:20:44 WARN util.NativeCodeLoader: Unable to load native-hadoop library for your platform... using builtin-java classes where applicable\n"
     ]
    }
   ],
   "source": [
    "def hw2_3():\n",
    "    #remove output directory if present else hadoop job gives error\n",
    "    !hdfs dfs -rm -r hw2/output/ModelOutput_23\n",
    "    \n",
    "    # run map reduce job\n",
    "    !hadoop jar /usr/local/Cellar/hadoop/2.7.1/libexec/share/hadoop/tools/lib/hadoop-*streaming*.jar \\\n",
    "    -mapper mapper1.py \\\n",
    "    -reducer reducer1.py \\\n",
    "    -input hw2/src/enronemail_1h.txt \\\n",
    "    -output hw2/output/ModelOutput_23\n",
    "    \n",
    "    #move files so next mapper can pick the model\n",
    "    !hdfs dfs -cat hw2/output/ModelOutput_23/part* > Model_23.txt\n",
    "    !hdfs dfs -put Model_23.txt hw2/output/ModelOutput_23/\n",
    "\n",
    "hw2_3()"
   ]
  },
  {
   "cell_type": "code",
   "execution_count": null,
   "metadata": {
    "collapsed": false
   },
   "outputs": [],
   "source": []
  },
  {
   "cell_type": "markdown",
   "metadata": {},
   "source": [
    "<span style=\"color:blue;\">Mapper 2</span>"
   ]
  },
  {
   "cell_type": "code",
   "execution_count": 565,
   "metadata": {
    "collapsed": false
   },
   "outputs": [
    {
     "name": "stdout",
     "output_type": "stream",
     "text": [
      "Overwriting mapper2.py\n"
     ]
    }
   ],
   "source": [
    "%%writefile mapper2.py\n",
    "#!/usr/bin/python\n",
    "# Mapper 2.3.\n",
    "# This mapper will use model output from previous reducer and use it for classification of emails \n",
    "    \n",
    "import sys\n",
    "import re\n",
    "import csv\n",
    "\n",
    "\n",
    "WORD_RE = re.compile(r\"[\\w']+\")\n",
    "pr_cc_word={}\n",
    "\n",
    "#Read the model parameters \n",
    "data = None\n",
    "with open('Model_23.txt', 'rb') as f:\n",
    "    reader = csv.reader(f)\n",
    "    for row in reader:\n",
    "        if(row[0]==\"OVERALL\"):\n",
    "            prior_spam = float(row[1])\n",
    "            prior_ham = float(row[2])\n",
    "            continue\n",
    "        pr_cc_word[row[0]]={'spam':float(row[1]),'ham':float(row[2])}\n",
    "\n",
    "        \n",
    "\n",
    "#input comes from STDIN (standard input)\n",
    "for line in sys.stdin:\n",
    "        # Split the line by <TAB> delimiter\n",
    "        content = re.split(r'\\t+', line)\n",
    "        # verify correct content structure else ignore bad data\n",
    "        if len(content) <> 4:\n",
    "            continue\n",
    "        #combine email subject and body  and remove leading and trailing spacers\n",
    "        text = \" \".join(content[-2:]).strip()\n",
    "        # Find all words\n",
    "        result = re.findall(WORD_RE,text)\n",
    "        \n",
    "        pr_spam_doc = prior_spam\n",
    "        pr_ham_doc = prior_ham\n",
    "        #loop through each word and keep on computing the posterior probabilities\n",
    "        for w in result:\n",
    "            word = w.lower()\n",
    "            # calculate prob for spam , ham for each email \n",
    "            if(pr_cc_word[word]['spam'] <> 0):\n",
    "                pr_spam_doc +=  pr_cc_word[word]['spam']\n",
    "            else:\n",
    "                pr_spam_doc += float('-inf')\n",
    "            if(pr_cc_word[word]['ham'] <> 0):\n",
    "                pr_ham_doc += pr_cc_word[word]['ham']\n",
    "            else:\n",
    "                 pr_ham_doc += float('-inf')\n",
    "\n",
    "        predicted_class = \"0\"\n",
    "        #Determine the predicted class\n",
    "        if(pr_spam_doc == float('-inf')) :\n",
    "            predicted_class = \"0\"\n",
    "            pr_spam_doc = 0\n",
    "        elif(pr_ham_doc == float('-inf')):\n",
    "            predicted_class = \"1\"\n",
    "            pr_ham_doc = 0\n",
    "        elif(pr_spam_doc > pr_ham_doc):\n",
    "            predicted_class = \"1\"\n",
    "        \n",
    "        #prepare the value output \n",
    "        value = content[1]+\"\\t\" + predicted_class+ \"\\t\" + str(pr_spam_doc)+ \"\\t\" +str(pr_ham_doc)\n",
    "        \n",
    "        #emit key. value combination\n",
    "        print content[0] + \"\\t\" + value"
   ]
  },
  {
   "cell_type": "code",
   "execution_count": 566,
   "metadata": {
    "collapsed": false
   },
   "outputs": [
    {
     "name": "stdout",
     "output_type": "stream",
     "text": [
      "Overwriting reducer2.py\n"
     ]
    }
   ],
   "source": [
    "%%writefile reducer2.py\n",
    "#!/usr/bin/python\n",
    "\n",
    "from __future__ import division\n",
    "from itertools import groupby\n",
    "from operator import itemgetter\n",
    "import sys\n",
    "import re\n",
    "import math\n",
    "\n",
    "\n",
    "incorrect=0\n",
    "total = 0\n",
    "\n",
    "for line in sys.stdin:\n",
    "    # remove leading and trailing whitespace\n",
    "    line = line.strip()\n",
    "\n",
    "    # Split the value by <TAB> delimiter\n",
    "    values = re.split(r'\\t+', line)\n",
    "\n",
    "    #Parse the values\n",
    "    true_class, predicted_class = int(values[1]),int(values[2])\n",
    "    \n",
    "    if true_class != predicted_class:#if predicted class is different from true class increment the count\n",
    "        incorrect+=1\n",
    "    total += 1\n",
    "    print line\n",
    "\n",
    "print \"Training error: : %2.3f\" %(1.0*incorrect/total)    \n",
    "\n",
    "    "
   ]
  },
  {
   "cell_type": "code",
   "execution_count": 571,
   "metadata": {
    "collapsed": false
   },
   "outputs": [
    {
     "name": "stdout",
     "output_type": "stream",
     "text": [
      "16/01/25 22:27:44 WARN util.NativeCodeLoader: Unable to load native-hadoop library for your platform... using builtin-java classes where applicable\n",
      "Deleted hw2/output/ClassificationOutput_23\n",
      "16/01/25 22:27:45 WARN streaming.StreamJob: -jobconf option is deprecated, please use -D instead.\n",
      "16/01/25 22:27:45 WARN util.NativeCodeLoader: Unable to load native-hadoop library for your platform... using builtin-java classes where applicable\n",
      "\n",
      "\n",
      "Training error of Mapreduce Multinomial Naive Bayes \n",
      "\n",
      "16/01/25 22:27:48 WARN util.NativeCodeLoader: Unable to load native-hadoop library for your platform... using builtin-java classes where applicable\n",
      "Training error: : 0.000\t\n",
      "\n",
      "\n",
      "16/01/25 22:27:49 WARN util.NativeCodeLoader: Unable to load native-hadoop library for your platform... using builtin-java classes where applicable\n"
     ]
    }
   ],
   "source": [
    "def hw2_31():\n",
    "    #remove output directory if present else hadoop job gives error\n",
    "    !hdfs dfs -rm -r hw2/output/ClassificationOutput_23\n",
    "    \n",
    "    # run map reduce job\n",
    "    !hadoop jar /usr/local/Cellar/hadoop/2.7.1/libexec/share/hadoop/tools/lib/hadoop-*streaming*.jar \\\n",
    "    -mapper mapper2.py  \\\n",
    "    -reducer reducer2.py \\\n",
    "    -input hw2/src/enronemail_1h.txt \\\n",
    "    -output hw2/output/ClassificationOutput_23 \\\n",
    "    -jobconf mapred.reduce.tasks=1\n",
    "\n",
    "    print \"\\n\"\n",
    "    print\"Training error of Mapreduce Multinomial Naive Bayes \\n\"\n",
    "    !hdfs dfs -cat hw2/output/ClassificationOutput_23/part-00000 | tail -1\n",
    "    \n",
    "    print \"\\n\"\n",
    "    #move files so next mapper can pick the model\n",
    "    !hdfs dfs -cat hw2/output/ClassificationOutput_23/part* > Classification_23.txt\n",
    "        \n",
    "hw2_31()\n",
    "    "
   ]
  },
  {
   "cell_type": "code",
   "execution_count": 650,
   "metadata": {
    "collapsed": false
   },
   "outputs": [
    {
     "data": {
      "text/plain": [
       "<matplotlib.axes._subplots.AxesSubplot at 0x114133fd0>"
      ]
     },
     "execution_count": 650,
     "metadata": {},
     "output_type": "execute_result"
    },
    {
     "data": {
      "text/plain": [
       "<matplotlib.figure.Figure at 0x114133990>"
      ]
     },
     "metadata": {},
     "output_type": "display_data"
    },
    {
     "data": {
      "image/png": "[encoded data removed]",
      "text/plain": [
       "<matplotlib.figure.Figure at 0x111864490>"
      ]
     },
     "metadata": {},
     "output_type": "display_data"
    },
    {
     "data": {
      "text/plain": [
       "<matplotlib.figure.Figure at 0x114392ed0>"
      ]
     },
     "metadata": {},
     "output_type": "display_data"
    },
    {
     "data": {
      "image/png": "[encoded data removed]",
      "text/plain": [
       "<matplotlib.figure.Figure at 0x111ac6e10>"
      ]
     },
     "metadata": {},
     "output_type": "display_data"
    }
   ],
   "source": [
    "import pandas as pd\n",
    "import numpy as np\n",
    "import matplotlib.pyplot as plt\n",
    "%matplotlib inline\n",
    "\n",
    "!head -n $(($(wc -l < Classification_23.txt) - 1))  < Classification_23.txt > plot_input.txt\n",
    "\n",
    "df = pd.read_csv(\"plot_input.txt\",sep='\\t',header=None)\n",
    "df.columns = ['doc_id','true_class','predicted_class','spam','ham']\n",
    "spam_exp = np.exp(df.spam[df.spam!=0])\n",
    "df['spam_exp'] = np.where(df['spam']==0, 0.0, np.exp(df['spam']))\n",
    "df['ham_exp'] = np.where(df['ham']==0, 0.0, np.exp(df['ham']))\n",
    "\n",
    "plt.figure()\n",
    "plt.figure(figsize = (7,6), dpi = 72)\n",
    "plt.title('Distribution of Probability for Spam')\n",
    "df.spam_exp.hist(alpha=0.5)\n",
    "\n",
    "plt.figure()\n",
    "plt.figure(figsize = (7,6), dpi = 72)\n",
    "plt.title('Distribution of Probability for Ham')\n",
    "df.ham_exp.hist(alpha=0.5)\n",
    "\n",
    "\n"
   ]
  },
  {
   "cell_type": "code",
   "execution_count": null,
   "metadata": {
    "collapsed": false
   },
   "outputs": [],
   "source": []
  },
  {
   "cell_type": "code",
   "execution_count": 573,
   "metadata": {
    "collapsed": true
   },
   "outputs": [],
   "source": [
    "## Draw plot "
   ]
  },
  {
   "cell_type": "markdown",
   "metadata": {},
   "source": [
    "#### HW2.4 \n",
    "Repeat HW2.3 with the following modification: use Laplace plus-one smoothing. Compare the misclassifcation error rates for 2.3 versus 2.4 and explain the differences.\n",
    "\n",
    "For a quick reference on the construction of the Multinomial NAIVE BAYES classifier that you will code,\n",
    "please consult the \"Document Classification\" section of the following wikipedia page:\n",
    "\n",
    "https://en.wikipedia.org/wiki/Naive_Bayes_classifier#Document_classification\n",
    "\n",
    "OR the original paper by the curators of the Enron email data:\n",
    "\n",
    "http://www.aueb.gr/users/ion/docs/ceas2006_paper.pdf"
   ]
  },
  {
   "cell_type": "code",
   "execution_count": 574,
   "metadata": {
    "collapsed": true
   },
   "outputs": [],
   "source": [
    "#we will reuse the Mapper 1 from 2.3 "
   ]
  },
  {
   "cell_type": "code",
   "execution_count": 607,
   "metadata": {
    "collapsed": false
   },
   "outputs": [
    {
     "name": "stdout",
     "output_type": "stream",
     "text": [
      "Overwriting reducer1.py\n"
     ]
    }
   ],
   "source": [
    "%%writefile reducer1.py\n",
    "#!/usr/bin/python\n",
    "\n",
    "from itertools import groupby\n",
    "from operator import itemgetter\n",
    "import sys\n",
    "import re\n",
    "import math\n",
    "\n",
    "spam_email_cnt  = 0 # Total count of spam emails \n",
    "ham_email_cnt = 0 #Total count of non spam emails \n",
    "total_spam_words = 0 #Total count of words in all spam emails \n",
    "total_ham_words = 0 # Total count of words in all non spam emails \n",
    "spam_words_freq = {} # Dictionary to store overall frequency of words for spam emails\n",
    "ham_words_freq ={} # Dictionary to store overall frequency of words for non spam emails\n",
    "unique_word_cnt = 0 # Unique vocab length\n",
    "\n",
    "for line in sys.stdin:\n",
    "    # remove leading and trailing whitespace\n",
    "    line = line.strip()\n",
    "\n",
    "    # parse the input we got from mapper.py\n",
    "    key, value = line.split(',', 1)\n",
    "    \n",
    "    if(key ==\"DOC_CLASS\"):\n",
    "        #increment spam or ham count \n",
    "        spam_email_cnt += int(value)\n",
    "        ham_email_cnt += not(int(value))\n",
    "        continue\n",
    "    \n",
    "    # Split the value by <TAB> delimiter\n",
    "    values = re.split(r'\\t+', value)\n",
    "\n",
    "    #Parse the values\n",
    "    true_class,freq = int(values[0]), int(values[1])\n",
    "    word = key\n",
    "    \n",
    "    #Determine unique word count for laplace smoothing \n",
    "    if (not(word in spam_words_freq or word in ham_words_freq)):\n",
    "        unique_word_cnt += 1;\n",
    "    \n",
    "    #increment spam words, total spam words,ham words, total ham words  based on class of email\n",
    "    if (true_class == 1):\n",
    "        total_spam_words += freq;\n",
    "        if word in spam_words_freq:\n",
    "            spam_words_freq[word] += freq\n",
    "        else:\n",
    "            spam_words_freq[word] = freq\n",
    "        if word not in ham_words_freq:\n",
    "            ham_words_freq[word] = 0\n",
    "    else:\n",
    "        total_ham_words += freq;\n",
    "        if word in ham_words_freq:\n",
    "            ham_words_freq[word] += freq\n",
    "        else:\n",
    "            ham_words_freq[word] = freq\n",
    "        if word not in spam_words_freq:\n",
    "            spam_words_freq[word] = 0\n",
    "\n",
    "#Now calculate prior probabilities for spam & ham\n",
    "p_sp = (1.0)*spam_email_cnt / (spam_email_cnt + ham_email_cnt )\n",
    "prior_spam = math.log(p_sp)\n",
    "prior_ham = math.log(1-p_sp)\n",
    "\n",
    "print \"OVERALL,\"+str(prior_spam)+\",\"+str(prior_ham)\n",
    "\n",
    "# Calculate Conditional Probability of word given email class spam and ham\n",
    "pr_word_spam = {}\n",
    "pr_word_ham = {}\n",
    "#One is added here to do LapLace smoothing\n",
    "for word in ham_words_freq:\n",
    "    #if findword frequency is greater than 0 than calculate probability else set the value to smallest possible value\n",
    "    pr_word_spam[word] = math.log((1.0)*(spam_words_freq[word]+1)/ (total_spam_words + unique_word_cnt))     \n",
    "    pr_word_ham[word] = math.log((1.0)*(ham_words_freq[word]+1)/(total_ham_words + unique_word_cnt))\n",
    "    \n",
    "    print word+\",\"+str(pr_word_spam[word])+\",\"+str(pr_word_ham[word])"
   ]
  },
  {
   "cell_type": "code",
   "execution_count": 608,
   "metadata": {
    "collapsed": false
   },
   "outputs": [
    {
     "name": "stdout",
     "output_type": "stream",
     "text": [
      "16/01/25 22:50:59 WARN util.NativeCodeLoader: Unable to load native-hadoop library for your platform... using builtin-java classes where applicable\n",
      "Deleted hw2/output/ModelOutput_24\n",
      "16/01/25 22:51:00 WARN util.NativeCodeLoader: Unable to load native-hadoop library for your platform... using builtin-java classes where applicable\n",
      "16/01/25 22:51:03 WARN util.NativeCodeLoader: Unable to load native-hadoop library for your platform... using builtin-java classes where applicable\n",
      "16/01/25 22:51:05 WARN util.NativeCodeLoader: Unable to load native-hadoop library for your platform... using builtin-java classes where applicable\n"
     ]
    }
   ],
   "source": [
    "def hw2_4():\n",
    "    #remove output directory if present else hadoop job gives error\n",
    "    !hdfs dfs -rm -r hw2/output/ModelOutput_24\n",
    "    \n",
    "    # run map reduce job\n",
    "    !hadoop jar /usr/local/Cellar/hadoop/2.7.1/libexec/share/hadoop/tools/lib/hadoop-*streaming*.jar \\\n",
    "    -mapper mapper1.py \\\n",
    "    -reducer reducer1.py \\\n",
    "    -input hw2/src/enronemail_1h.txt \\\n",
    "    -output hw2/output/ModelOutput_24\n",
    "    \n",
    "    !hdfs dfs -cat hw2/output/ModelOutput_24/part* > Model_24.txt\n",
    "    !hdfs dfs -put Model_24.txt hw2/output/ModelOutput_24/\n",
    "\n",
    "hw2_4()"
   ]
  },
  {
   "cell_type": "markdown",
   "metadata": {
    "collapsed": false
   },
   "source": [
    "### We will reuse reducer2 from HW 2.3"
   ]
  },
  {
   "cell_type": "code",
   "execution_count": 609,
   "metadata": {
    "collapsed": false
   },
   "outputs": [
    {
     "name": "stdout",
     "output_type": "stream",
     "text": [
      "Overwriting mapper2.py\n"
     ]
    }
   ],
   "source": [
    "%%writefile mapper2.py\n",
    "#!/usr/bin/python\n",
    "# Mapper how Hw1.3.\n",
    "# This mapper will \n",
    "    \n",
    "import sys\n",
    "import re\n",
    "import csv\n",
    "\n",
    "\n",
    "WORD_RE = re.compile(r\"[\\w']+\")\n",
    "pr_cc_word={}\n",
    "\n",
    "#Read the model parameters \n",
    "data = None\n",
    "with open('Model_24.txt', 'rb') as f:\n",
    "    reader = csv.reader(f)\n",
    "    for row in reader:\n",
    "        if(row[0]==\"OVERALL\"):\n",
    "            prior_spam = float(row[1])\n",
    "            prior_ham = float(row[2])\n",
    "            continue\n",
    "        pr_cc_word[row[0]]={'spam':float(row[1]),'ham':float(row[2])}\n",
    "\n",
    "        \n",
    "\n",
    "#input comes from STDIN (standard input)\n",
    "for line in sys.stdin:\n",
    "        # Split the line by <TAB> delimiter\n",
    "        content = re.split(r'\\t+', line)\n",
    "        # verify correct content structure else ignore bad data\n",
    "        if len(content) <> 4:\n",
    "            continue\n",
    "        #combine email subject and body  and remove leading and trailing spacers\n",
    "        text = \" \".join(content[-2:]).strip()\n",
    "        # Find all words\n",
    "        result = re.findall(WORD_RE,text)\n",
    "        \n",
    "        pr_spam_doc = prior_spam\n",
    "        pr_ham_doc = prior_ham\n",
    "        for w in result:\n",
    "            word = w.lower()\n",
    "            # calculate prob for spam , ham for each email \n",
    "            if(pr_cc_word[word]['spam'] <> 0):\n",
    "                pr_spam_doc +=  pr_cc_word[word]['spam']\n",
    "            else:\n",
    "                pr_spam_doc += float('-inf')\n",
    "            if(pr_cc_word[word]['ham'] <> 0):\n",
    "                pr_ham_doc += pr_cc_word[word]['ham']\n",
    "            else:\n",
    "                 pr_ham_doc += float('-inf')\n",
    "\n",
    "        predicted_class = \"0\"\n",
    "        #Determine the predicted class\n",
    "        if(pr_spam_doc == float('-inf')) :\n",
    "            predicted_class = \"0\"\n",
    "        elif(pr_ham_doc == float('-inf')):\n",
    "            predicted_class = \"1\"\n",
    "        elif(pr_spam_doc > pr_ham_doc):\n",
    "            predicted_class = \"1\"\n",
    "        \n",
    "        #prepare the value output \n",
    "        value = content[1]+\"\\t\" + predicted_class+ \"\\t\" + str(pr_spam_doc)+ \"\\t\" +str(pr_ham_doc)\n",
    "        \n",
    "        #emit key. value combination\n",
    "        print content[0] + \"\\t\" + value"
   ]
  },
  {
   "cell_type": "code",
   "execution_count": 610,
   "metadata": {
    "collapsed": false
   },
   "outputs": [
    {
     "name": "stdout",
     "output_type": "stream",
     "text": [
      "16/01/25 22:51:15 WARN util.NativeCodeLoader: Unable to load native-hadoop library for your platform... using builtin-java classes where applicable\n",
      "Deleted hw2/output/ClassificationOutput_24\n",
      "16/01/25 22:51:16 WARN streaming.StreamJob: -jobconf option is deprecated, please use -D instead.\n",
      "16/01/25 22:51:16 WARN util.NativeCodeLoader: Unable to load native-hadoop library for your platform... using builtin-java classes where applicable\n",
      "\n",
      "\n",
      "Training error of Mapreduce Multinomial Naive Bayes with Smoothing \n",
      "\n",
      "16/01/25 22:51:20 WARN util.NativeCodeLoader: Unable to load native-hadoop library for your platform... using builtin-java classes where applicable\n",
      "Training error: : 0.000\t\n"
     ]
    }
   ],
   "source": [
    "def hw2_41():\n",
    "    #remove output directory if present else hadoop job gives error\n",
    "    !hdfs dfs -rm -r hw2/output/ClassificationOutput_24\n",
    "    \n",
    "    # run map reduce job\n",
    "    !hadoop jar /usr/local/Cellar/hadoop/2.7.1/libexec/share/hadoop/tools/lib/hadoop-*streaming*.jar \\\n",
    "    -mapper mapper2.py  \\\n",
    "    -reducer reducer2.py \\\n",
    "    -input hw2/src/enronemail_1h.txt \\\n",
    "    -output hw2/output/ClassificationOutput_24 \\\n",
    "    -jobconf mapred.reduce.tasks=1\n",
    "\n",
    "    print \"\\n\"\n",
    "    print\"Training error of Mapreduce Multinomial Naive Bayes with Smoothing \\n\"\n",
    "    !hdfs dfs -cat hw2/output/ClassificationOutput_24/part-00000 | tail -1\n",
    "\n",
    "           \n",
    "hw2_41()"
   ]
  },
  {
   "cell_type": "code",
   "execution_count": null,
   "metadata": {
    "collapsed": false
   },
   "outputs": [],
   "source": []
  },
  {
   "cell_type": "markdown",
   "metadata": {},
   "source": [
    "#### HW2.5. \n",
    "Repeat HW2.4. This time when modeling and classification ignore tokens with a frequency of less than three (3) in the training set. How does it affect the misclassifcation error of learnt naive multinomial Bayesian Classifier on the training dataset:"
   ]
  },
  {
   "cell_type": "markdown",
   "metadata": {},
   "source": [
    "#### <span style=\"color:blue;\"> We will re-use Mapper1 from HW 2.3</span> "
   ]
  },
  {
   "cell_type": "markdown",
   "metadata": {},
   "source": [
    "#### <span style=\"color:blue;\">Reducer1</span> "
   ]
  },
  {
   "cell_type": "code",
   "execution_count": 611,
   "metadata": {
    "collapsed": false
   },
   "outputs": [
    {
     "name": "stdout",
     "output_type": "stream",
     "text": [
      "Overwriting reducer1.py\n"
     ]
    }
   ],
   "source": [
    "%%writefile reducer1.py\n",
    "#!/usr/bin/python\n",
    "\n",
    "from itertools import groupby\n",
    "from operator import itemgetter\n",
    "import sys\n",
    "import re\n",
    "import math\n",
    "\n",
    "spam_email_cnt  = 0 # Total count of spam emails \n",
    "ham_email_cnt = 0 #Total count of non spam emails \n",
    "total_spam_words = 0 #Total count of words in all spam emails \n",
    "total_ham_words = 0 # Total count of words in all non spam emails \n",
    "spam_words_freq = {} # Dictionary to store overall frequency of words for spam emails\n",
    "ham_words_freq ={} # Dictionary to store overall frequency of words for non spam emails\n",
    "unique_word_cnt = 0 # Unique vocab length\n",
    "\n",
    "for line in sys.stdin:\n",
    "    # remove leading and trailing whitespace\n",
    "    line = line.strip()\n",
    "\n",
    "    # parse the input we got from mapper.py\n",
    "    key, value = line.split(',', 1)\n",
    "    \n",
    "    if(key ==\"DOC_CLASS\"):\n",
    "        #increment spam or ham count \n",
    "        spam_email_cnt += int(value)\n",
    "        ham_email_cnt += not(int(value))\n",
    "        continue\n",
    "    \n",
    "    # Split the value by <TAB> delimiter\n",
    "    values = re.split(r'\\t+', value)\n",
    "\n",
    "    #Parse the values\n",
    "    true_class,freq = int(values[0]), int(values[1])\n",
    "    word = key\n",
    "    \n",
    "    #Determine unique word count for laplace smoothing \n",
    "    if (not(word in spam_words_freq or word in ham_words_freq)):\n",
    "        unique_word_cnt += 1;\n",
    "    \n",
    "    #increment spam words, total spam words,ham words, total ham words  based on class of email\n",
    "    if (true_class == 1):\n",
    "        total_spam_words += freq;\n",
    "        if word in spam_words_freq:\n",
    "            spam_words_freq[word] += freq\n",
    "        else:\n",
    "            spam_words_freq[word] = freq\n",
    "        if word not in ham_words_freq:\n",
    "            ham_words_freq[word] = 0\n",
    "    else:\n",
    "        total_ham_words += freq;\n",
    "        if word in ham_words_freq:\n",
    "            ham_words_freq[word] += freq\n",
    "        else:\n",
    "            ham_words_freq[word] = freq\n",
    "        if word not in spam_words_freq:\n",
    "            spam_words_freq[word] = 0\n",
    "\n",
    "#Now calculate prior probabilities for spam & ham\n",
    "p_sp = (1.0)*spam_email_cnt / (spam_email_cnt + ham_email_cnt )\n",
    "prior_spam = math.log(p_sp)\n",
    "prior_ham = math.log(1-p_sp)\n",
    "\n",
    "print \"OVERALL,\"+str(prior_spam)+\",\"+str(prior_ham)\n",
    "\n",
    "# Calculate Conditional Probability of word given email class spam and ham\n",
    "pr_word_spam = {}\n",
    "pr_word_ham = {}\n",
    "\n",
    "#if frequency of word is less than 3 ignore the word from vocab \n",
    "for word in ham_words_freq:\n",
    "    if( (ham_words_freq[word]+spam_words_freq[word])<3):\n",
    "        unique_word_cnt -= 1\n",
    "\n",
    "#if frequency of word is less than 3 ignore the word and do not calculate the propability\n",
    "for word in ham_words_freq:\n",
    "    if( (ham_words_freq[word]+spam_words_freq[word])<3):\n",
    "        continue\n",
    "    #One is added here to do LapLace smoothing\n",
    "    pr_word_spam[word] = math.log((1.0)*(spam_words_freq[word]+1)/ (total_spam_words + unique_word_cnt))     \n",
    "    pr_word_ham[word] = math.log((1.0)*(ham_words_freq[word]+1)/(total_ham_words + unique_word_cnt))\n",
    "    print word+\",\"+str(pr_word_spam[word])+\",\"+str(pr_word_ham[word])"
   ]
  },
  {
   "cell_type": "code",
   "execution_count": 612,
   "metadata": {
    "collapsed": false
   },
   "outputs": [
    {
     "name": "stdout",
     "output_type": "stream",
     "text": [
      "16/01/25 22:52:10 WARN util.NativeCodeLoader: Unable to load native-hadoop library for your platform... using builtin-java classes where applicable\n",
      "Deleted hw2/output/ModelOutput_25\n",
      "16/01/25 22:52:11 WARN util.NativeCodeLoader: Unable to load native-hadoop library for your platform... using builtin-java classes where applicable\n",
      "16/01/25 22:52:15 WARN util.NativeCodeLoader: Unable to load native-hadoop library for your platform... using builtin-java classes where applicable\n",
      "16/01/25 22:52:16 WARN util.NativeCodeLoader: Unable to load native-hadoop library for your platform... using builtin-java classes where applicable\n"
     ]
    }
   ],
   "source": [
    "def hw2_5():\n",
    "    #remove output directory if present else hadoop job gives error\n",
    "    !hdfs dfs -rm -r hw2/output/ModelOutput_25\n",
    "    \n",
    "    # run map reduce job\n",
    "    !hadoop jar /usr/local/Cellar/hadoop/2.7.1/libexec/share/hadoop/tools/lib/hadoop-*streaming*.jar \\\n",
    "    -mapper mapper1.py \\\n",
    "    -reducer reducer1.py \\\n",
    "    -input hw2/src/enronemail_1h.txt \\\n",
    "    -output hw2/output/ModelOutput_25\n",
    "    \n",
    "    !hdfs dfs -cat hw2/output/ModelOutput_25/part* > Model_25.txt\n",
    "    !hdfs dfs -put Model_25.txt hw2/output/ModelOutput_25/\n",
    "\n",
    "hw2_5()"
   ]
  },
  {
   "cell_type": "markdown",
   "metadata": {
    "collapsed": false
   },
   "source": [
    "#### <span style=\"color:blue;\"> Mapper2</span> "
   ]
  },
  {
   "cell_type": "code",
   "execution_count": 614,
   "metadata": {
    "collapsed": false
   },
   "outputs": [
    {
     "name": "stdout",
     "output_type": "stream",
     "text": [
      "Overwriting mapper2.py\n"
     ]
    }
   ],
   "source": [
    "%%writefile mapper2.py\n",
    "#!/usr/bin/python\n",
    "# Mapper for HW 2.4\n",
    "# This mapper will \n",
    "    \n",
    "import sys\n",
    "import re\n",
    "import csv\n",
    "\n",
    "\n",
    "WORD_RE = re.compile(r\"[\\w']+\")\n",
    "pr_cc_word={}\n",
    "\n",
    "#Read the model parameters \n",
    "data = None\n",
    "with open('Model_24.txt', 'rb') as f:\n",
    "    reader = csv.reader(f)\n",
    "    for row in reader:\n",
    "        if(row[0]==\"OVERALL\"):\n",
    "            prior_spam = float(row[1])\n",
    "            prior_ham = float(row[2])\n",
    "            continue\n",
    "        pr_cc_word[row[0]]={'spam':float(row[1]),'ham':float(row[2])}\n",
    "\n",
    "        \n",
    "\n",
    "#input comes from STDIN (standard input)\n",
    "for line in sys.stdin:\n",
    "        # Split the line by <TAB> delimiter\n",
    "        content = re.split(r'\\t+', line)\n",
    "        # verify correct content structure else ignore bad data\n",
    "        if len(content) <> 4:\n",
    "            continue\n",
    "        #combine email subject and body  and remove leading and trailing spacers\n",
    "        text = \" \".join(content[-2:]).strip()\n",
    "        # Find all words\n",
    "        result = re.findall(WORD_RE,text)\n",
    "        \n",
    "        pr_spam_doc = prior_spam\n",
    "        pr_ham_doc = prior_ham\n",
    "        for w in result:\n",
    "            word = w.lower()\n",
    "            # calculate prob for spam , ham for each email\n",
    "            if(word not in pr_cc_word):\n",
    "                continue\n",
    "            pr_spam_doc +=  pr_cc_word[word]['spam']\n",
    "            pr_ham_doc += pr_cc_word[word]['ham']\n",
    "\n",
    "        predicted_class = \"0\"\n",
    "        #Determine the predicted class\n",
    "        if(pr_spam_doc == float('-inf')) :\n",
    "            predicted_class = \"0\"\n",
    "        elif(pr_ham_doc == float('-inf')):\n",
    "            predicted_class = \"1\"\n",
    "        elif(pr_spam_doc > pr_ham_doc):\n",
    "            predicted_class = \"1\"\n",
    "        \n",
    "        #prepare the value output \n",
    "        value = content[1]+\"\\t\" + predicted_class+ \"\\t\" + str(pr_spam_doc)+ \"\\t\" +str(pr_ham_doc)\n",
    "        \n",
    "        #emit key. value combination\n",
    "        print content[0] + \"\\t\" + value"
   ]
  },
  {
   "cell_type": "code",
   "execution_count": 653,
   "metadata": {
    "collapsed": false
   },
   "outputs": [
    {
     "name": "stdout",
     "output_type": "stream",
     "text": [
      "16/01/25 23:38:53 WARN util.NativeCodeLoader: Unable to load native-hadoop library for your platform... using builtin-java classes where applicable\n",
      "Deleted hw2/output/ClassificationOutput_25\n",
      "16/01/25 23:38:55 WARN streaming.StreamJob: -jobconf option is deprecated, please use -D instead.\n",
      "16/01/25 23:38:55 WARN util.NativeCodeLoader: Unable to load native-hadoop library for your platform... using builtin-java classes where applicable\n",
      "\n",
      "\n",
      "Training error of Mapreduce Multinomial Naive Bayes with Smoothing \n",
      "\n",
      "16/01/25 23:38:58 WARN util.NativeCodeLoader: Unable to load native-hadoop library for your platform... using builtin-java classes where applicable\n",
      "Training error: : 0.000\t\n"
     ]
    }
   ],
   "source": [
    "def hw2_4_1():\n",
    "    #remove output directory if present else hadoop job gives error\n",
    "    !hdfs dfs -rm -r hw2/output/ClassificationOutput_25\n",
    "    \n",
    "    # run map reduce job\n",
    "    !hadoop jar /usr/local/Cellar/hadoop/2.7.1/libexec/share/hadoop/tools/lib/hadoop-*streaming*.jar \\\n",
    "    -mapper mapper2.py  \\\n",
    "    -reducer reducer2.py \\\n",
    "    -input hw2/src/enronemail_1h.txt \\\n",
    "    -output hw2/output/ClassificationOutput_25 \\\n",
    "    -jobconf mapred.reduce.tasks=1\n",
    "\n",
    "    print \"\\n\"\n",
    "    print\"Training error of Mapreduce Multinomial Naive Bayes with Smoothing \\n\"\n",
    "    !hdfs dfs -cat hw2/output/ClassificationOutput_25/part-* | tail -1\n",
    "    \n",
    "hw2_4_1()\n"
   ]
  },
  {
   "cell_type": "code",
   "execution_count": null,
   "metadata": {
    "collapsed": false
   },
   "outputs": [],
   "source": []
  },
  {
   "cell_type": "code",
   "execution_count": null,
   "metadata": {
    "collapsed": true
   },
   "outputs": [],
   "source": []
  },
  {
   "cell_type": "markdown",
   "metadata": {},
   "source": [
    "#### HW2.6 Benchmark your code with the Python SciKit-Learn implementation of the multinomial Naive Bayes algorithm\n",
    "\n",
    "It always a good idea to benchmark your solutions against publicly available libraries such as SciKit-Learn, The Machine Learning toolkit available in Python. In this exercise, we benchmark ourselves against the SciKit-Learn implementation of multinomial Naive Bayes.  For more information on this implementation see: http://scikit-learn.org/stable/modules/naive_bayes.html more  \n",
    "\n",
    "In this exercise, please complete the following:\n",
    "\n",
    "— Run the Multinomial Naive Bayes algorithm (using default settings) from SciKit-Learn over the same training data used in HW2.5 and report the misclassification error (please note some data preparation might be needed to get the Multinomial Naive Bayes algorithm from SkiKit-Learn to run over this dataset)\n",
    "- Prepare a table to present your results, where rows correspond to approach used (SkiKit-Learn versus your Hadoop implementation) and the column presents the training misclassification error\n",
    "— Explain/justify any differences in terms of training error rates over the dataset in HW2.5 between your Multinomial Naive Bayes implementation (in Map Reduce) versus the Multinomial Naive Bayes implementation in SciKit-Learn "
   ]
  },
  {
   "cell_type": "code",
   "execution_count": 488,
   "metadata": {
    "collapsed": false
   },
   "outputs": [
    {
     "name": "stdout",
     "output_type": "stream",
     "text": [
      "Using our Multinomial classifier\n",
      "sklearn accuracy: 0.96\n",
      "sk learn training error 0.04\n"
     ]
    }
   ],
   "source": [
    "import re\n",
    "from sklearn.naive_bayes import MultinomialNB\n",
    "import numpy\n",
    "from sklearn.feature_extraction.text import CountVectorizer\n",
    " \n",
    "#Create empty arrays for training data and label\n",
    "email_text = []\n",
    "train_data = []\n",
    "train_label =[]\n",
    "\n",
    "with open (\"enronemail_1h.txt\", \"r\") as myfile:\n",
    "    for line in myfile.readlines():\n",
    "        \n",
    "        # Split the line by <TAB> delimiter\n",
    "        content = re.split(r'\\t+', line)\n",
    "            \n",
    "        doc_text = content[2].lower() + \" \"+content[3].lower()         \n",
    "        email_text.append(doc_text)\n",
    "        train_label.append(content[1])\n",
    "    \n",
    "train_label = np.array(train_label)\n",
    "    \n",
    "# Create features for train and dev data \n",
    "count_vectorizer = CountVectorizer(min_df=3)\n",
    "train_data = count_vectorizer.fit_transform(email_text)\n",
    "\n",
    "nb =  MultinomialNB()\n",
    "nb.fit(train_data, train_label)   \n",
    "# Compute accuracy on the test data.\n",
    "print \"Using our Multinomial classifier\"\n",
    "accuracy = nb.score(train_data, train_label)\n",
    "tr_error = 1-accuracy\n",
    "print 'sklearn accuracy: %3.2f' %accuracy\n",
    "print 'sk learn training error %3.2f' %tr_error"
   ]
  },
  {
   "cell_type": "markdown",
   "metadata": {},
   "source": [
    "#### HW 2.6 - Summary of Results\n",
    "\n",
    "| Model                                                                      | Training Error |\n",
    "|----------------------------------------------------------------------------|----------------|\n",
    "| Multinomial NB, Scikit-Learn Implementation                                | 0.04            |\n",
    "| Multinomial NB, MapReduce implementation                                   | 0.0          |"
   ]
  },
  {
   "cell_type": "markdown",
   "metadata": {
    "collapsed": true
   },
   "source": []
  }
 ],
 "metadata": {
  "kernelspec": {
   "display_name": "Python 2",
   "language": "python",
   "name": "python2"
  },
  "language_info": {
   "codemirror_mode": {
    "name": "ipython",
    "version": 2
   },
   "file_extension": ".py",
   "mimetype": "text/x-python",
   "name": "python",
   "nbconvert_exporter": "python",
   "pygments_lexer": "ipython2",
   "version": "2.7.11"
  }
 },
 "nbformat": 4,
 "nbformat_minor": 0
}
