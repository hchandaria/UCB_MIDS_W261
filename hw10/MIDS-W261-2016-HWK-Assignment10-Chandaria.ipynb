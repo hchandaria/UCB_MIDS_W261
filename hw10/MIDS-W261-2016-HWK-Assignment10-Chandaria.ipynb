{
 "cells": [
  {
   "cell_type": "markdown",
   "metadata": {},
   "source": [
    "=====DATSCIW261 ASSIGNMENT #10=====\n",
    "\n",
    "\n",
    "MIDS UC Berkeley, Machine Learning at Scale\n",
    "\n",
    "DATSCIW261 ASSIGNMENT #10"
   ]
  },
  {
   "cell_type": "markdown",
   "metadata": {},
   "source": [
    "#### Hetal Chandaria (hetalchandaria@berkeley.edu) \n",
    "\n",
    "W261 - 2 , ASSIGNMENT #10\n",
    "\n",
    "Submission Date : \n",
    "\n",
    "Group : 4"
   ]
  },
  {
   "cell_type": "markdown",
   "metadata": {},
   "source": [
    "### Setting up spark for use with iPython"
   ]
  },
  {
   "cell_type": "code",
   "execution_count": 36,
   "metadata": {
    "collapsed": false
   },
   "outputs": [
    {
     "name": "stdout",
     "output_type": "stream",
     "text": [
      "Welcome to\n",
      "      ____              __\n",
      "     / __/__  ___ _____/ /__\n",
      "    _\\ \\/ _ \\/ _ `/ __/  '_/\n",
      "   /__ / .__/\\_,_/_/ /_/\\_\\   version 1.6.1\n",
      "      /_/\n",
      "\n",
      "Using Python version 2.7.11 (default, Dec  6 2015 18:57:58)\n",
      "SparkContext available as sc, HiveContext available as sqlContext.\n"
     ]
    }
   ],
   "source": [
    "import os\n",
    "import sys \n",
    "\n",
    "spark_home = os.environ['SPARK_HOME'] = '/Users/hetal/programming/205/spark-1.6.1-bin-hadoop2.6'\n",
    "\n",
    "if not spark_home:\n",
    "    raise ValueError('SPARK_HOME enviroment variable is not set')\n",
    "sys.path.insert(0,os.path.join(spark_home,'python'))\n",
    "sys.path.insert(0,os.path.join(spark_home,'python/lib/py4j-0.9-src.zip'))\n",
    "execfile(os.path.join(spark_home,'python/pyspark/shell.py'))"
   ]
  },
  {
   "cell_type": "markdown",
   "metadata": {},
   "source": [
    "### ===HW 10.0: Short answer questions===\n",
    "\n",
    "What is Apache Spark and how is it different to Apache Hadoop? \n",
    "\n",
    "Fill in the blanks:\n",
    "Spark API consists of interfaces to develop applications based on it in Java, ...... languages (list languages). \n",
    "\n",
    "Using Spark, resource management can be done either in a single server instance or using a framework such as Mesos or ????? in a distributed manner.\n",
    "\n",
    "What is an RDD and show a fun example of creating one and bringing the first element back to the driver program.\n",
    "\n",
    "What is lazy evaluation and give an intuitoive example of lazy evaluation and comment on the massive computational savings to be had from lazy evaluation."
   ]
  },
  {
   "cell_type": "markdown",
   "metadata": {},
   "source": [
    "<h2>\n",
    "<span style=\"color: blue\"> Answer</span>\n",
    "</h2>"
   ]
  },
  {
   "cell_type": "markdown",
   "metadata": {},
   "source": [
    "######  <b>What is Apache Spark and how is it different to Apache Hadoop? </b>\n",
    "\n",
    "Apache Spark is a cluster computing platform designed to be fast and general-purpose.\n",
    "\n",
    "One of the main features Spark offers for speed is the ability to run computations in memory, but the system is also more efficient than MapReduce for complex applications running on disk.\n",
    "On the generality side, Spark is designed to cover a wide range of workloads that previously required separate distributed systems, including batch applications, iterative algorithms, interactive queries, and streaming. By supporting these workloads in the same engine, Spark makes it easy and inexpensive to combine different processing types, which is often necessary in production data analysis pipelines.\n",
    "\n"
   ]
  },
  {
   "cell_type": "markdown",
   "metadata": {},
   "source": [
    "#####  Fill in the blanks:\n",
    "Spark API consists of interfaces to develop applications based on it in Java, <b> <span style=\"color: brown\" >Python, Scala , SQL</span></b> languages (list languages). \n",
    "\n",
    "Using Spark, resource management can be done either in a single server instance or using a framework such as Mesos or <b><span style=\"color: brown\" >Yarn</span></b> in a distributed manner."
   ]
  },
  {
   "cell_type": "markdown",
   "metadata": {},
   "source": [
    "###### What is an RDD and show a fun example of creating one and bringing the first element back to the driver program.\n",
    "\n",
    "Resilient Distributed Datasets (RDDs), are a distributed memory abstraction that lets programmers perform in-memory computations on large clusters in a fault-tolerant manner.\n",
    "\n",
    "In Spark, RDDs, represents an immutable, partitioned collection of elements that can be operated on in parallel."
   ]
  },
  {
   "cell_type": "code",
   "execution_count": 6,
   "metadata": {
    "collapsed": false
   },
   "outputs": [
    {
     "data": {
      "text/plain": [
       "'Spark'"
      ]
     },
     "execution_count": 6,
     "metadata": {},
     "output_type": "execute_result"
    }
   ],
   "source": [
    "sample = sc.parallelize([\"Spark\",\"Hadoop\",\"Tez\"])\n",
    "sample.first()"
   ]
  },
  {
   "cell_type": "markdown",
   "metadata": {},
   "source": [
    "##### What is lazy evaluation and give an intuitive example of lazy evaluation and comment on the massive computational savings to be had from lazy evaluation."
   ]
  },
  {
   "cell_type": "markdown",
   "metadata": {},
   "source": [
    "Transformations on RDDs are lazily evaluated, meaning that Spark will not begin to execute until it sees an action.\n",
    "\n",
    "Lazy evaluation means that when we call a transformation on an RDD (for instance, calling map()), the operation is not immediately performed. Instead, Spark internally records metadata to indicate that this operation has been requested. Rather than thinking of an RDD as containing specific data, it is best to think of each RDD as consisting of instructions on how to compute the data that we build up through transformations.\n",
    "\n",
    "Example : We have lot of software programs installed on our computer. When we boot our machine, not all programs are started. Unless we go and open a particular application, the program is not bought up. This is example of lazy evaluation. \n",
    "\n"
   ]
  },
  {
   "cell_type": "markdown",
   "metadata": {},
   "source": [
    "### ===HW 10.1: ===\n",
    "In Spark write the code to count how often each word appears in a text document (or set of documents). Please use this homework document as a the example document to run an experiment.  Report the following: provide a sorted list of tokens in decreasing order of frequency of occurence."
   ]
  },
  {
   "cell_type": "markdown",
   "metadata": {},
   "source": [
    "<h2>\n",
    "<span style=\"color: blue\"> Answer</span>\n",
    "</h2>"
   ]
  },
  {
   "cell_type": "code",
   "execution_count": 21,
   "metadata": {
    "collapsed": false
   },
   "outputs": [
    {
     "data": {
      "text/plain": [
       "[(u'the', 46),\n",
       " (u'and', 24),\n",
       " (u'in', 18),\n",
       " (u'of', 17),\n",
       " (u'10', 15),\n",
       " (u'a', 13),\n",
       " (u'HW', 13),\n",
       " (u'for', 11),\n",
       " (u'data', 11),\n",
       " (u'code', 10),\n",
       " (u'to', 9),\n",
       " (u'clusters', 9),\n",
       " (u'is', 8),\n",
       " (u'KMeans', 8),\n",
       " (u'1', 7),\n",
       " (u'3', 7),\n",
       " (u'HW10', 7),\n",
       " (u'with', 7),\n",
       " (u'this', 7),\n",
       " (u'Using', 7)]"
      ]
     },
     "execution_count": 21,
     "metadata": {},
     "output_type": "execute_result"
    }
   ],
   "source": [
    "import re\n",
    "\n",
    "# lines = sc.textFile('charles_dickens.txt')\n",
    "lines = sc.textFile('MIDS-MLS-HW-10.txt')\n",
    "\n",
    "def emitWordCounts(line):\n",
    "    wordCounts = {}\n",
    "    for w in re.findall(r\"[\\w]+\",line):\n",
    "        if wordCounts.has_key(w):\n",
    "            wordCounts[w]=wordCounts[w]+1\n",
    "        else:\n",
    "            wordCounts[w]=1\n",
    "    for key, value in  wordCounts.items():\n",
    "        print key,\":\", value      \n",
    "    return (wordCounts.items())  \n",
    "\n",
    "counts = lines.flatMap(emitWordCounts).reduceByKey(lambda a, b: a + b)\n",
    "# print counts.collect()\n",
    "\n",
    "# In descending order\n",
    "''' The first parameter tells number of elements\n",
    "    to be present in output.\n",
    "''' \n",
    "counts.takeOrdered(20, key=lambda x: -x[1])\n",
    "# In Ascending order\n",
    "# counts.takeOrdered(10, key=lambda x: x[1])\n",
    "\n"
   ]
  },
  {
   "cell_type": "code",
   "execution_count": null,
   "metadata": {
    "collapsed": true
   },
   "outputs": [],
   "source": []
  },
  {
   "cell_type": "markdown",
   "metadata": {},
   "source": [
    "### HW 10.1.1\n",
    "Modify the above word count code to count words that begin with lower case letters (a-z) and report your findings. Again sort the output words in decreasing order of frequency.\n",
    "\n"
   ]
  },
  {
   "cell_type": "markdown",
   "metadata": {},
   "source": [
    "<h2>\n",
    "<span style=\"color: blue\"> Answer</span>\n",
    "</h2>"
   ]
  },
  {
   "cell_type": "code",
   "execution_count": 22,
   "metadata": {
    "collapsed": false
   },
   "outputs": [
    {
     "data": {
      "text/plain": [
       "[(u'the', 46),\n",
       " (u'and', 24),\n",
       " (u'in', 18),\n",
       " (u'of', 17),\n",
       " (u'a', 13),\n",
       " (u'for', 11),\n",
       " (u'data', 11),\n",
       " (u'code', 10),\n",
       " (u'to', 9),\n",
       " (u'clusters', 9),\n",
       " (u'is', 8),\n",
       " (u'with', 7),\n",
       " (u'this', 7),\n",
       " (u'on', 7),\n",
       " (u'your', 7),\n",
       " (u's', 6),\n",
       " (u'com', 6),\n",
       " (u'https', 6),\n",
       " (u'x', 6),\n",
       " (u'iterations', 5)]"
      ]
     },
     "execution_count": 22,
     "metadata": {},
     "output_type": "execute_result"
    }
   ],
   "source": [
    "import re\n",
    "\n",
    "# lines = sc.textFile('charles_dickens.txt')\n",
    "lines = sc.textFile('MIDS-MLS-HW-10.txt')\n",
    "\n",
    "def emitWordCounts(line):\n",
    "    wordCounts = {}\n",
    "    for w in re.findall(r\"\\b[a-z]+\\b\",line):\n",
    "        if wordCounts.has_key(w):\n",
    "            wordCounts[w]=wordCounts[w]+1\n",
    "        else:\n",
    "            wordCounts[w]=1\n",
    "    for key, value in  wordCounts.items():\n",
    "        print key,\":\", value      \n",
    "    return (wordCounts.items())  \n",
    "\n",
    "counts = lines.flatMap(emitWordCounts).reduceByKey(lambda a, b: a + b)\n",
    "# print counts.collect()\n",
    "\n",
    "# In descending order\n",
    "''' The first parameter tells number of elements\n",
    "    to be present in output.\n",
    "''' \n",
    "counts.takeOrdered(20, key=lambda x: -x[1])\n",
    "# In Ascending order\n",
    "# counts.takeOrdered(10, key=lambda x: x[1])"
   ]
  },
  {
   "cell_type": "markdown",
   "metadata": {},
   "source": [
    "### ===HW 10.2: KMeans a la MLLib ==="
   ]
  },
  {
   "cell_type": "code",
   "execution_count": 118,
   "metadata": {
    "collapsed": false
   },
   "outputs": [
    {
     "name": "stdout",
     "output_type": "stream",
     "text": [
      "Within Set Sum of Squared Error = 0.12\n"
     ]
    }
   ],
   "source": [
    "# \n",
    "# Using the following  MLlib-centric KMeans code snippet: \n",
    "\n",
    "from pyspark.mllib.clustering import KMeans, KMeansModel\n",
    "from numpy import array\n",
    "from math import sqrt\n",
    "\n",
    "# Load and parse the data\n",
    "# NOTE  kmeans_data.txt is available here \n",
    "#          https://www.dropbox.com/s/q85t0ytb9apggnh/kmeans_data.txt?dl=0 \n",
    "data = sc.textFile(\"kmeans_data.txt\")  \n",
    "parsedData = data.map(lambda line: array([float(x) for x in line.split(' ')]))\n",
    "\n",
    "# Build the model (cluster the data)\n",
    "clusters = KMeans.train(parsedData, 2, maxIterations=10,\n",
    "        runs=10, initializationMode=\"random\")\n",
    "\n",
    "# Evaluate clustering by computing Within Set Sum of Squared Errors\n",
    "def error(point):\n",
    "    center = clusters.centers[clusters.predict(point)]\n",
    "    return (sum([x**2 for x in (point - center)])) # remove sqrt from here as we need to computer only within set sum of squared errors\n",
    "\n",
    "WSSSE = parsedData.map(lambda point: error(point)).reduce(lambda x, y: x + y)\n",
    "print(\"Within Set Sum of Squared Error = \" + str(WSSSE))\n",
    "\n",
    "# Save and load model\n",
    "# clusters.save(sc, \"myModelPath\")\n",
    "sameModel = KMeansModel.load(sc, \"myModelPath\")\n",
    "\n",
    "\n",
    "# NOTE  kmeans_data.txt is available here https://www.dropbox.com/s/q85t0ytb9apggnh/kmeans_data.txt?dl=0 \n",
    "\n",
    "# Run this code snippet and list the clusters that your find and compute the Within Set Sum of Squared Errors \n",
    "# for the found clusters. Comment on your findings."
   ]
  },
  {
   "cell_type": "markdown",
   "metadata": {},
   "source": [
    "<h2>\n",
    "<span style=\"color: blue\"> Answer</span>\n",
    "</h2>"
   ]
  },
  {
   "cell_type": "code",
   "execution_count": 62,
   "metadata": {
    "collapsed": false
   },
   "outputs": [
    {
     "name": "stdout",
     "output_type": "stream",
     "text": [
      "Cluster centers using Spark Mlib library: [array([ 9.1,  9.1,  9.1]), array([ 0.1,  0.1,  0.1])]\n"
     ]
    }
   ],
   "source": [
    "print 'Cluster centers using Spark Mlib library: {}'.format(clusters.centers)"
   ]
  },
  {
   "cell_type": "code",
   "execution_count": 76,
   "metadata": {
    "collapsed": false
   },
   "outputs": [
    {
     "name": "stdout",
     "output_type": "stream",
     "text": [
      "Within Set sum of Squared Errors 0.12\n"
     ]
    }
   ],
   "source": [
    "print 'Within Set sum of Squared Errors {}'.format(str(WSSSE))"
   ]
  },
  {
   "cell_type": "code",
   "execution_count": 74,
   "metadata": {
    "collapsed": false
   },
   "outputs": [
    {
     "name": "stdout",
     "output_type": "stream",
     "text": [
      "Cost computed using Spark Mlib Library: 0.12\n"
     ]
    }
   ],
   "source": [
    "# computeCost(rdd)[source]\n",
    "# Return the K-means cost (sum of squared distances of points to their nearest center) for this model on the given data.\n",
    "print 'Cost computed using Spark Mlib Library: {}'.format(clusters.computeCost(parsedData))"
   ]
  },
  {
   "cell_type": "markdown",
   "metadata": {},
   "source": [
    "### ==HW 10.3: ===\n",
    "Download the following KMeans notebook:\n",
    "\n",
    "https://www.dropbox.com/s/3nsthvp8g2rrrdh/EM-Kmeans.ipynb?dl=0\n",
    "\n",
    "Generate 3 clusters with 100 (one hundred) data points per cluster (using the code provided). Plot the data.\n",
    "Then run MLlib's Kmean implementation on this data  and report your results as follows:\n",
    "\n",
    "  -- plot the resulting clusters after 1 iteration, 10 iterations, after 20 iterations, after 100 iterations.\n",
    "  -- in each plot please report the Within Set Sum of Squared Errors for the found clusters. Comment on the progress of this measure as \n",
    "  the KMEans algorithms runs for more iterations"
   ]
  },
  {
   "cell_type": "markdown",
   "metadata": {},
   "source": [
    "<h2>\n",
    "<span style=\"color: blue\"> Answer</span>\n",
    "</h2>"
   ]
  },
  {
   "cell_type": "code",
   "execution_count": 79,
   "metadata": {
    "collapsed": true
   },
   "outputs": [],
   "source": [
    "#generate Data \n",
    "%matplotlib inline\n",
    "import numpy as np\n",
    "import pylab \n",
    "import json\n",
    "size1 = size2 = size3 = 100 #change the size to 100 v/s 1000\n",
    "samples1 = np.random.multivariate_normal([4, 0], [[1, 0],[0, 1]], size1)\n",
    "data = samples1\n",
    "samples2 = np.random.multivariate_normal([6, 6], [[1, 0],[0, 1]], size2)\n",
    "data = np.append(data,samples2, axis=0)\n",
    "samples3 = np.random.multivariate_normal([0, 4], [[1, 0],[0, 1]], size3)\n",
    "data = np.append(data,samples3, axis=0)\n",
    "# Randomlize data\n",
    "data = data[np.random.permutation(size1+size2+size3),]\n",
    "np.savetxt('data.csv',data,delimiter = ',')"
   ]
  },
  {
   "cell_type": "code",
   "execution_count": 91,
   "metadata": {
    "collapsed": false
   },
   "outputs": [
    {
     "data": {
      "image/png": "[encoded data removed]",
      "text/plain": [
       "<matplotlib.figure.Figure at 0x10b37be90>"
      ]
     },
     "metadata": {},
     "output_type": "display_data"
    }
   ],
   "source": [
    "#plot the original data\n",
    "pylab.plot(samples1[:, 0], samples1[:, 1],'*', color = 'purple')\n",
    "pylab.plot(samples2[:, 0], samples2[:, 1],'o',color = 'blue')\n",
    "pylab.plot(samples3[:, 0], samples3[:, 1],'+',color = 'green')\n",
    "pylab.show()"
   ]
  },
  {
   "cell_type": "code",
   "execution_count": null,
   "metadata": {
    "collapsed": true
   },
   "outputs": [],
   "source": []
  },
  {
   "cell_type": "code",
   "execution_count": 96,
   "metadata": {
    "collapsed": true
   },
   "outputs": [],
   "source": [
    "#plot centroids and data points for each iteration\n",
    "def plot_iteration(means):\n",
    "    pylab.plot(samples1[:, 0], samples1[:, 1], '.', color = 'purple',alpha=0.5)\n",
    "    pylab.plot(samples2[:, 0], samples2[:, 1], '.', color = 'blue',alpha=0.5)\n",
    "    pylab.plot(samples3[:, 0], samples3[:, 1],'.', color = 'green',alpha=0.5)\n",
    "    pylab.plot(means[0][0], means[0][1],'*',markersize =10,color = 'red')\n",
    "    pylab.plot(means[1][0], means[1][1],'*',markersize =10,color = 'red')\n",
    "    pylab.plot(means[2][0], means[2][1],'*',markersize =10,color = 'red')\n",
    "    pylab.show()"
   ]
  },
  {
   "cell_type": "code",
   "execution_count": 115,
   "metadata": {
    "collapsed": false
   },
   "outputs": [
    {
     "name": "stdout",
     "output_type": "stream",
     "text": [
      "================================================================================\n",
      "Iteration 1\n",
      "================================================================================\n",
      "Within Set Sum of Squared Error (WSSSE) = 1835.47252707\n",
      "Cluster Centers:\n",
      "[ 1.27799673  4.84321436]\n",
      "[ 2.82041625 -0.39060521]\n",
      "[ 5.37230429  2.95360788]\n"
     ]
    },
    {
     "data": {
      "image/png": "[encoded data removed]",
      "text/plain": [
       "<matplotlib.figure.Figure at 0x10bdbf090>"
      ]
     },
     "metadata": {},
     "output_type": "display_data"
    },
    {
     "name": "stdout",
     "output_type": "stream",
     "text": [
      "================================================================================\n",
      "Iteration 10\n",
      "================================================================================\n",
      "Within Set Sum of Squared Error (WSSSE) = 578.860382661\n",
      "Cluster Centers:\n",
      "[ 5.94885757  6.01525401]\n",
      "[ 3.9642386   0.10262953]\n",
      "[-0.04279234  4.13363034]\n"
     ]
    },
    {
     "data": {
      "image/png": "[encoded data removed]",
      "text/plain": [
       "<matplotlib.figure.Figure at 0x10b39d910>"
      ]
     },
     "metadata": {},
     "output_type": "display_data"
    },
    {
     "name": "stdout",
     "output_type": "stream",
     "text": [
      "================================================================================\n",
      "Iteration 20\n",
      "================================================================================\n",
      "Within Set Sum of Squared Error (WSSSE) = 578.860382661\n",
      "Cluster Centers:\n",
      "[ 5.94885757  6.01525401]\n",
      "[ 3.9642386   0.10262953]\n",
      "[-0.04279234  4.13363034]\n"
     ]
    },
    {
     "data": {
      "image/png": "[encoded data removed]",
      "text/plain": [
       "<matplotlib.figure.Figure at 0x109a43850>"
      ]
     },
     "metadata": {},
     "output_type": "display_data"
    },
    {
     "name": "stdout",
     "output_type": "stream",
     "text": [
      "================================================================================\n",
      "Iteration 100\n",
      "================================================================================\n",
      "Within Set Sum of Squared Error (WSSSE) = 578.860382661\n",
      "Cluster Centers:\n",
      "[-0.04279234  4.13363034]\n",
      "[ 5.94885757  6.01525401]\n",
      "[ 3.9642386   0.10262953]\n"
     ]
    },
    {
     "data": {
      "image/png": "[encoded data removed]",
      "text/plain": [
       "<matplotlib.figure.Figure at 0x10bc4c050>"
      ]
     },
     "metadata": {},
     "output_type": "display_data"
    }
   ],
   "source": [
    "k = 3\n",
    "iterations = [1, 10, 20, 100]\n",
    "\n",
    "# create RDD\n",
    "data = sc.textFile(\"./data.csv\")\n",
    "parsedData = data.map(lambda line: array([float(x) for x in line.split(',')])).cache()\n",
    "clusters = None\n",
    "\n",
    "\n",
    "for iteration in range(1,101):\n",
    "    # Build the model (cluster the data)\n",
    "    clusters = KMeans.train(parsedData, k, maxIterations=iteration, runs=1, initializationMode = \"random\")\n",
    "    WSSSE = clusters.computeCost(parsedData)\n",
    "    \n",
    "    if iteration in iterations:\n",
    "        print \"=\"*80\n",
    "        print 'Iteration {}'.format(iteration)\n",
    "        print \"=\"*80\n",
    "\n",
    "        print \"Within Set Sum of Squared Error (WSSSE) = {1}\".format(iteration, WSSSE)\n",
    "        print 'Cluster Centers:'\n",
    "        for centroid in clusters.centers:\n",
    "            print centroid\n",
    "\n",
    "        # Plot the points & centroids\n",
    "        plot_iteration(clusters.clusterCenters)"
   ]
  },
  {
   "cell_type": "markdown",
   "metadata": {},
   "source": [
    "##### Observations\n",
    "Looking at the centroids from iteration 10,20,100, it looks like the algorithm converges after 10 iterations. "
   ]
  },
  {
   "cell_type": "markdown",
   "metadata": {},
   "source": [
    "### ==HW 10.4: ===\n",
    "Using the KMeans code (homegrown code) provided repeat the experiments in HW10.3. Comment on any differences between the results in HW10.3 and HW10.4. Explain."
   ]
  },
  {
   "cell_type": "markdown",
   "metadata": {},
   "source": [
    "<h2>\n",
    "<span style=\"color: blue\"> Answer</span>\n",
    "</h2>"
   ]
  },
  {
   "cell_type": "code",
   "execution_count": 112,
   "metadata": {
    "collapsed": true
   },
   "outputs": [],
   "source": [
    "import numpy as np\n",
    "\n",
    "#Calculate which class each data point belongs to\n",
    "def nearest_centroid(line):\n",
    "    x = np.array([float(f) for f in line.split(',')])\n",
    "    closest_centroid_idx = np.sum((x - centroids)**2, axis=1).argmin()\n",
    "    return (closest_centroid_idx,(x,1))"
   ]
  },
  {
   "cell_type": "code",
   "execution_count": 114,
   "metadata": {
    "collapsed": false
   },
   "outputs": [
    {
     "name": "stdout",
     "output_type": "stream",
     "text": [
      "================================================================================\n",
      "Iteration 1\n",
      "================================================================================\n",
      "Cluster Centers:\n",
      "[ 1.05336767  0.52992221]\n",
      "[ 4.01136344  2.74644275]\n",
      "[ 1.73027751  5.69558801]\n"
     ]
    },
    {
     "data": {
      "image/png": "[encoded data removed]",
      "text/plain": [
       "<matplotlib.figure.Figure at 0x10b5df890>"
      ]
     },
     "metadata": {},
     "output_type": "display_data"
    },
    {
     "name": "stdout",
     "output_type": "stream",
     "text": [
      "================================================================================\n",
      "Iteration 10\n",
      "================================================================================\n",
      "Cluster Centers:\n",
      "[ 3.9642386   0.10262953]\n",
      "[ 5.94885757  6.01525401]\n",
      "[-0.04279234  4.13363034]\n"
     ]
    },
    {
     "data": {
      "image/png": "[encoded data removed]",
      "text/plain": [
       "<matplotlib.figure.Figure at 0x10bc735d0>"
      ]
     },
     "metadata": {},
     "output_type": "display_data"
    },
    {
     "name": "stdout",
     "output_type": "stream",
     "text": [
      "================================================================================\n",
      "Iteration 20\n",
      "================================================================================\n",
      "Cluster Centers:\n",
      "[ 3.9642386   0.10262953]\n",
      "[ 5.94885757  6.01525401]\n",
      "[-0.04279234  4.13363034]\n"
     ]
    },
    {
     "data": {
      "image/png": "[encoded data removed]",
      "text/plain": [
       "<matplotlib.figure.Figure at 0x10bdb0390>"
      ]
     },
     "metadata": {},
     "output_type": "display_data"
    },
    {
     "name": "stdout",
     "output_type": "stream",
     "text": [
      "================================================================================\n",
      "Iteration 100\n",
      "================================================================================\n",
      "Cluster Centers:\n",
      "[ 3.9642386   0.10262953]\n",
      "[ 5.94885757  6.01525401]\n",
      "[-0.04279234  4.13363034]\n"
     ]
    },
    {
     "data": {
      "image/png": "[encoded data removed]",
      "text/plain": [
       "<matplotlib.figure.Figure at 0x10b681510>"
      ]
     },
     "metadata": {},
     "output_type": "display_data"
    }
   ],
   "source": [
    "K = 3\n",
    "# Initialization: initialization of parameter is fixed to show an example\n",
    "centroids = np.array([[0.0,0.0],[2.0,2.0],[0.0,7.0]])\n",
    "iterations = [1, 10, 20, 100]\n",
    "\n",
    "D = sc.textFile(\"./data.csv\").cache()\n",
    "iter_num = 1\n",
    "for i in range(1,101):  \n",
    "    res = D.map(nearest_centroid).reduceByKey(lambda x,y : (x[0]+y[0],x[1]+y[1])).collect()\n",
    "    res = sorted(res,key = lambda x : x[0])  #sort based on clusted ID\n",
    "    centroids_new = np.array([x[1][0]/x[1][1] for x in res])  #divide by cluster size\n",
    "    centroids = centroids_new\n",
    "    \n",
    "    if i in iterations:\n",
    "        print \"=\"*80\n",
    "        print 'Iteration {}'.format(i)\n",
    "        print \"=\"*80\n",
    "\n",
    "#         print \"Within Set Sum of Squared Error (WSSSE) = {1}\".format(iteration, WSSSE)\n",
    "        print 'Cluster Centers:'\n",
    "        for centroid in centroids:\n",
    "            print centroid\n",
    "\n",
    "        # Plot the points & centroids\n",
    "        plot_iteration(centroids)\n",
    "    \n",
    "    iter_num = iter_num + 1 \n"
   ]
  },
  {
   "cell_type": "markdown",
   "metadata": {},
   "source": [
    "##### Observations\n",
    "\n",
    "1. Looking at the centroids and the plot, we can say the algorithm converges after 10 iterations. Even if we run the algorithm for more iterations, there is no change the calculated centroids.\n",
    "2. Homegrown Cluster centroids output after 100 iterations \n",
    "\n",
    "[ 3.9642386   0.10262953]\n",
    "\n",
    "[ 5.94885757  6.01525401]\n",
    "\n",
    "[-0.04279234  4.13363034]\n",
    "\n",
    "Spark Mlib calculated centroid outout after 100 iterations \n",
    "\n",
    "[ 5.94885757  6.01525401]\n",
    "\n",
    "[ 3.9642386   0.10262953]\n",
    "\n",
    "[-0.04279234  4.13363034]\n",
    "\n",
    "\n",
    "The centroids from both homegrown Kmeans solution and Spark Mlib Kmeans are same."
   ]
  },
  {
   "cell_type": "code",
   "execution_count": null,
   "metadata": {
    "collapsed": false
   },
   "outputs": [],
   "source": []
  },
  {
   "cell_type": "markdown",
   "metadata": {},
   "source": [
    "### ==HW 10.5: === (OPTIONAL)\n",
    "Using the KMeans code provided modify it to do a weighted KMeans and repeat the experiements in HW10.3. Comment on any differences between the results in HW10.3 and HW10.5. Explain.\n",
    "\n",
    "NOTE: Weight each example as follows using the inverse vector length (Euclidean norm): \n",
    "\n",
    "weight(X)= 1/||X||, \n",
    "\n",
    "where ||X|| = SQRT(X.X)= SQRT(X1^2 + X2^2)\n",
    "\n",
    "Here X is vector made up of X1 and X2."
   ]
  },
  {
   "cell_type": "code",
   "execution_count": null,
   "metadata": {
    "collapsed": true
   },
   "outputs": [],
   "source": []
  },
  {
   "cell_type": "markdown",
   "metadata": {
    "collapsed": false
   },
   "source": [
    "### ==HW 10.6: Linear Regression ===  (OPTIONAL)\n",
    "HW 10.6.1\n",
    "Using the following linear regression notebook:\n",
    "\n",
    " https://www.dropbox.com/s/atzqkc0p1eajuz6/LinearRegression-Notebook-Challenge.ipynb?dl=0 \n",
    "\n",
    "Generate 2 sets of data with 100 data points using the data generation code provided and plot each in separate plots. Call one the training set and the other the testing set.\n",
    "\n",
    "Using MLLib's LinearRegressionWithSGD train up a linear regression model with the training dataset and evaluate with the testing set. What a good number of iterations for training the linear regression model? Justify with plots and words. \n",
    "\n"
   ]
  },
  {
   "cell_type": "code",
   "execution_count": 1,
   "metadata": {
    "collapsed": true
   },
   "outputs": [],
   "source": [
    "#Data Generation\n",
    "import numpy as np\n",
    "import csv\n",
    "def data_generate(fileName, w=[0,0], size=100):\n",
    "    np.random.seed(0)\n",
    "    x = np.random.uniform(-4, 4, size)\n",
    "    noise = np.random.normal(0, 2, size)\n",
    "    y = (x * w[0] + w[1] + noise)\n",
    "    data = zip(y, x)\n",
    "    with open(fileName,'wb') as f:\n",
    "        writer = csv.writer(f)\n",
    "        for row in data:\n",
    "            writer.writerow(row)\n",
    "    return True"
   ]
  },
  {
   "cell_type": "code",
   "execution_count": 32,
   "metadata": {
    "collapsed": false
   },
   "outputs": [],
   "source": [
    "# plot data\n",
    "%matplotlib inline\n",
    "import matplotlib.pyplot as plt\n",
    "def dataPlot(file, w):\n",
    "    with open(file, 'r') as f:\n",
    "        reader = csv.reader(f)\n",
    "        for row in reader:\n",
    "            plt.plot(float(row[1]), float(row[0]),'o'+'r')\n",
    "    plt.xlabel(\"x\")\n",
    "    plt.ylabel(\"y\")\n",
    "    x = [-4, 4]\n",
    "    y = [(i * w[0] + w[1]) for i in x]\n",
    "    plt.plot(x,y, linewidth=2.0)\n",
    "    plt.grid()\n",
    "    plt.show()"
   ]
  },
  {
   "cell_type": "markdown",
   "metadata": {},
   "source": [
    "The true y = 8x - 2"
   ]
  },
  {
   "cell_type": "code",
   "execution_count": 30,
   "metadata": {
    "collapsed": false
   },
   "outputs": [
    {
     "data": {
      "image/png": "[encoded data removed]",
      "text/plain": [
       "<matplotlib.figure.Figure at 0x10d3cf810>"
      ]
     },
     "metadata": {},
     "output_type": "display_data"
    }
   ],
   "source": [
    "#generate training set and plot it \n",
    "w = [8,-2]\n",
    "data_generate('train.csv', w, 100)\n",
    "dataPlot('train.csv',w)"
   ]
  },
  {
   "cell_type": "code",
   "execution_count": 34,
   "metadata": {
    "collapsed": false
   },
   "outputs": [
    {
     "data": {
      "image/png": "[encoded data removed]",
      "text/plain": [
       "<matplotlib.figure.Figure at 0x10d55d310>"
      ]
     },
     "metadata": {},
     "output_type": "display_data"
    }
   ],
   "source": [
    "#generate test set and plot it \n",
    "w = [8,-2]\n",
    "data_generate('test.csv', w, 100)\n",
    "dataPlot('test.csv',w)"
   ]
  },
  {
   "cell_type": "code",
   "execution_count": null,
   "metadata": {
    "collapsed": true
   },
   "outputs": [],
   "source": []
  },
  {
   "cell_type": "code",
   "execution_count": 73,
   "metadata": {
    "collapsed": false
   },
   "outputs": [
    {
     "name": "stdout",
     "output_type": "stream",
     "text": [
      "Number of iterations :  1\n",
      "(weights=[43.420647014], intercept=-3.356525583044622)\n",
      "Mean Squared Error = 6773.23731301\n",
      "Number of iterations :  10\n",
      "(weights=[-298.445355872], intercept=13.616204267077855)\n",
      "Mean Squared Error = 506216.356076\n",
      "Number of iterations :  15\n",
      "(weights=[16.7683204364], intercept=-2.05546494112727)\n",
      "Mean Squared Error = 419.942124701\n",
      "Number of iterations :  20\n",
      "(weights=[7.97257579041], intercept=-1.6181780801746715)\n",
      "Mean Squared Error = 3.9704873112\n",
      "Number of iterations :  25\n",
      "(weights=[7.98393748404], intercept=-1.6187449131887346)\n",
      "Mean Squared Error = 3.96975506862\n",
      "Number of iterations :  30\n",
      "(weights=[7.98393748404], intercept=-1.6187449131887346)\n",
      "Mean Squared Error = 3.96975506862\n",
      "Number of iterations :  40\n",
      "(weights=[7.98393748404], intercept=-1.6187449131887346)\n",
      "Mean Squared Error = 3.96975506862\n",
      "Number of iterations :  50\n",
      "(weights=[7.98393748404], intercept=-1.6187449131887346)\n",
      "Mean Squared Error = 3.96975506862\n",
      "Number of iterations :  75\n",
      "(weights=[7.98393748404], intercept=-1.6187449131887346)\n",
      "Mean Squared Error = 3.96975506862\n",
      "Number of iterations :  100\n",
      "(weights=[7.98393748404], intercept=-1.6187449131887346)\n",
      "Mean Squared Error = 3.96975506862\n"
     ]
    },
    {
     "data": {
      "image/png": "[encoded data removed]",
      "text/plain": [
       "<matplotlib.figure.Figure at 0x11040e890>"
      ]
     },
     "metadata": {},
     "output_type": "display_data"
    }
   ],
   "source": [
    "from pyspark.mllib.regression import LabeledPoint, LinearRegressionWithSGD, LinearRegressionModel\n",
    "\n",
    "iterations = [1, 10, 15, 20, 25,30,40, 50,75,100]\n",
    "# iterations = [1,25]\n",
    "# Load and parse the data\n",
    "def parsePoint(line):\n",
    "    values = [float(x) for x in line.split(',')]\n",
    "    return LabeledPoint(values[0], values[1:])\n",
    "\n",
    "data = sc.textFile(\"train.csv\")\n",
    "trainData = data.map(parsePoint).cache()\n",
    "\n",
    "tmpData = sc.textFile('test.csv')\n",
    "testData = tmpData.map(parsePoint).cache()\n",
    "\n",
    "plt.figure(figsize=(10,8))\n",
    "w = [8,-2]\n",
    "plt.xlabel(\"x\")\n",
    "plt.ylabel(\"y\")\n",
    "x = [-4, 4]\n",
    "y = [(i * w[0] + w[1]) for i in x]\n",
    "plt.plot(x,y, linewidth=2.0,label='True Model',linestyle='--',color='purple')\n",
    "\n",
    "for itr in iterations:\n",
    "    print \"Number of iterations : \",itr\n",
    "    # Build the model\n",
    "    model = LinearRegressionWithSGD.train(trainData, intercept=True, iterations=itr)\n",
    "    print model\n",
    "\n",
    "    # Evaluate the model on test data\n",
    "    valuesAndPreds = testData.map(lambda p: (p.label, model.predict(p.features)))\n",
    "    MSE = valuesAndPreds.map(lambda (v, p): (v - p)**2).reduce(lambda x, y: x + y) / valuesAndPreds.count()\n",
    "    print(\"Mean Squared Error = \" + str(MSE))\n",
    "    \n",
    "    y = [(i * model.weights[0] + model.intercept) for i in x]\n",
    "    plt.plot(x,y,linewidth=0.5,label='Iteration {}'.format(itr),alpha=0.7)\n",
    "    plt.legend(loc='upper right', numpoints=1, ncol=3, fontsize=8)\n",
    "   \n"
   ]
  },
  {
   "cell_type": "markdown",
   "metadata": {},
   "source": [
    "Looking at the graph and the Mean Squared Error, we can say that the model converges after 25 iterations. "
   ]
  },
  {
   "cell_type": "markdown",
   "metadata": {},
   "source": [
    "### HW 10.6.2\n",
    "In the notebook provide, in the cell labeled \"Gradient descent (regularization)\".\n",
    "\n",
    "Fill in the blanks and get this code to work for LASS0 and RIDGE linear regression.\n",
    "\n",
    "Using the data from 10.6.1 tune the hyper parameters of your LASS0 and RIDGE regression. Report your findings with words and plots."
   ]
  },
  {
   "cell_type": "code",
   "execution_count": 43,
   "metadata": {
    "collapsed": false
   },
   "outputs": [
    {
     "name": "stdout",
     "output_type": "stream",
     "text": [
      "[LabeledPoint(0.0, [0.0,1.0]), LabeledPoint(1.0, [1.0,0.0])]\n"
     ]
    }
   ],
   "source": [
    "from pyspark.mllib.regression import LabeledPoint, LinearRegressionWithSGD, LinearRegressionModel\n",
    "data = [LabeledPoint(0.0, [0.0, 1.0]),LabeledPoint(1.0, [1.0, 0.0]) ]\n",
    "print data"
   ]
  },
  {
   "cell_type": "code",
   "execution_count": 44,
   "metadata": {
    "collapsed": false
   },
   "outputs": [
    {
     "ename": "AttributeError",
     "evalue": "'list' object has no attribute 'map'",
     "output_type": "error",
     "traceback": [
      "\u001b[0;31m---------------------------------------------------------------------------\u001b[0m",
      "\u001b[0;31mAttributeError\u001b[0m                            Traceback (most recent call last)",
      "\u001b[0;32m<ipython-input-44-1fd5c821b7f9>\u001b[0m in \u001b[0;36m<module>\u001b[0;34m()\u001b[0m\n\u001b[0;32m----> 1\u001b[0;31m \u001b[0mvaluesAndPreds\u001b[0m \u001b[0;34m=\u001b[0m \u001b[0mdata\u001b[0m\u001b[0;34m.\u001b[0m\u001b[0mmap\u001b[0m\u001b[0;34m(\u001b[0m\u001b[0;32mlambda\u001b[0m \u001b[0mp\u001b[0m\u001b[0;34m:\u001b[0m \u001b[0mp\u001b[0m\u001b[0;34m.\u001b[0m\u001b[0mlabel\u001b[0m\u001b[0;34m)\u001b[0m\u001b[0;34m\u001b[0m\u001b[0m\n\u001b[0m",
      "\u001b[0;31mAttributeError\u001b[0m: 'list' object has no attribute 'map'"
     ]
    }
   ],
   "source": [
    "valuesAndPreds = data.map(lambda p: p.label)"
   ]
  },
  {
   "cell_type": "code",
   "execution_count": null,
   "metadata": {
    "collapsed": true
   },
   "outputs": [],
   "source": []
  }
 ],
 "metadata": {
  "kernelspec": {
   "display_name": "Python 2",
   "language": "python",
   "name": "python2"
  },
  "language_info": {
   "codemirror_mode": {
    "name": "ipython",
    "version": 2
   },
   "file_extension": ".py",
   "mimetype": "text/x-python",
   "name": "python",
   "nbconvert_exporter": "python",
   "pygments_lexer": "ipython2",
   "version": "2.7.11"
  }
 },
 "nbformat": 4,
 "nbformat_minor": 0
}
