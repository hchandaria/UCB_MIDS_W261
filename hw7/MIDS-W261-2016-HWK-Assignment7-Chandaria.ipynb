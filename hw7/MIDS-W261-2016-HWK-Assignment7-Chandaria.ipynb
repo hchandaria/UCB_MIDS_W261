{
 "cells": [
  {
   "cell_type": "markdown",
   "metadata": {},
   "source": [
    "=====DATSCIW261 ASSIGNMENT #7=====\n",
    "\n",
    "\n",
    "MIDS UC Berkeley, Machine Learning at Scale\n",
    "\n",
    "DATSCIW261 ASSIGNMENT #7"
   ]
  },
  {
   "cell_type": "markdown",
   "metadata": {},
   "source": [
    "#### Hetal Chandaria (hetalchandaria@berkeley.edu) \n",
    "\n",
    "W261 - 2 , ASSIGNMENT #7\n",
    "\n",
    "Submission Date : \n",
    "\n",
    "Group : 4"
   ]
  },
  {
   "cell_type": "markdown",
   "metadata": {},
   "source": [
    "===General Description===\n",
    "\n",
    "In this assignment you will explore networks and develop MRJob code for \n",
    "finding shortest path graph distances. To build up to large data \n",
    "you will develop your code on some very simple, toy networks.\n",
    "After this you will take your developed code forward and modify it and \n",
    "apply it to two larger datasets (performing EDA along the way)."
   ]
  },
  {
   "cell_type": "markdown",
   "metadata": {},
   "source": [
    "==================================== Undirected toy network dataset ================================\n",
    "\n",
    "In an undirected network all links are symmetric, \n",
    "i.e., for a pair of nodes 'A' and 'B,' both of the links:\n",
    "\n",
    "A -> B and B -> A\n",
    "\n",
    "will exist. \n",
    "\n",
    "The toy data are available in a sparse (stripes) representation:\n",
    "\n",
    "(node) \\t (dictionary of links)\n",
    "\n",
    "on AWS/Dropbox via the url:\n",
    "\n",
    "s3://ucb-mids-mls-networks/undirected_toy.txt\n",
    "\n",
    "On under the Data Subfolder for HW7 on Dropbox with the same file name. \n",
    "The Data folder is in: https://db.tt/Kxu48mL1\n",
    "\n",
    "In the dictionary, target nodes are keys, link weights are values \n",
    "(here, all weights are 1, i.e., the network is unweighted).\n",
    "\n",
    "================================"
   ]
  },
  {
   "cell_type": "markdown",
   "metadata": {},
   "source": [
    "==Directed toy network dataset==\n",
    "\n",
    "In a directed network all links are not necessarily symmetric, \n",
    "i.e., for a pair of nodes 'A' and 'B,' it is possible for only one of:\n",
    "\n",
    "A -> B or B -> A\n",
    "\n",
    "to exist. \n",
    "\n",
    "These toy data are available in a sparse (stripes) representation:\n",
    "\n",
    "(node) \\t (dictionary of links)\n",
    "\n",
    "on AWS/Dropbox via the url:\n",
    "\n",
    "s3://ucb-mids-mls-networks/directed_toy.txt\n",
    "\n",
    "On under the Data Subfolder for HW7 on Dropbox with the same file name\n",
    "\n",
    "In the dictionary, target nodes are keys, link weights are values \n",
    "(here, all weights are 1, i.e., the network is unweighted).\n",
    "\n",
    "=========================================================="
   ]
  },
  {
   "cell_type": "markdown",
   "metadata": {},
   "source": [
    "### HW 7.0: Shortest path graph distances (toy networks)===\n",
    "\n",
    "In this part of your assignment you will develop the base of your code for the week.\n",
    "\n",
    "Write MRJob classes to find shortest path graph distances, \n",
    "as described in the lectures. In addition to finding the distances, \n",
    "your code should also output a distance-minimizing path between the source and target.\n",
    "Work locally for this part of the assignment, and use \n",
    "both of the undirected and directed toy networks.\n",
    "\n",
    "To proof you code's function, run the following jobs\n",
    "\n",
    "- shortest path in the undirected network from node 1 to node 4\n",
    "Solution: 1,5,4 \n",
    "\n",
    "- shortest path in the directed network from node 1 to node 5\n",
    "Solution: 1,2,4,5\n",
    "\n",
    "and report your output---make sure it is correct!"
   ]
  },
  {
   "cell_type": "code",
   "execution_count": 84,
   "metadata": {
    "collapsed": false
   },
   "outputs": [
    {
     "name": "stdout",
     "output_type": "stream",
     "text": [
      "Overwriting mrjob_sssp_init.py\n"
     ]
    }
   ],
   "source": [
    "%%writefile mrjob_sssp_init.py\n",
    "\n",
    "from mrjob.job import MRJob\n",
    "from mrjob.step import MRStep\n",
    "from mrjob.compat import get_jobconf_value\n",
    "from ast import literal_eval\n",
    "import sys\n",
    "\n",
    "class Graph_init(MRJob):\n",
    "    def steps(self):\n",
    "        return [\n",
    "            MRStep(mapper=self.mapper)\n",
    "               ]\n",
    "    \n",
    "    def configure_options(self):\n",
    "        super(Graph_init, self).configure_options()\n",
    "        self.add_passthrough_option(\n",
    "            '--Frontier',dest='frontier', type='str', default=\"1\",\n",
    "            help='Frontier: Starting node for the graph')\n",
    "        \n",
    "    def mapper(self,_,line):\n",
    "        line = line.replace(\"\\\"\",\"\")\n",
    "        t = line.strip().split('\\t')\n",
    "        node = t[0]\n",
    "        if node == self.options.frontier:\n",
    "            yield node,('{0}|{1}|{2}|{3}'.format(literal_eval(t[1]),0,self.options.frontier,'Q'))\n",
    "        else:\n",
    "            yield node,('{0}|{1}|{2}|{3}'.format(literal_eval(t[1]),sys.maxint,self.options.frontier,'U')) \n",
    "        \n",
    "if __name__ == '__main__':\n",
    "    Graph_init.run()    "
   ]
  },
  {
   "cell_type": "code",
   "execution_count": 85,
   "metadata": {
    "collapsed": false
   },
   "outputs": [],
   "source": [
    "!python mrjob_sssp_init.py --Frontier 1 -q test_directed2.txt > test-foo.txt"
   ]
  },
  {
   "cell_type": "code",
   "execution_count": 139,
   "metadata": {
    "collapsed": false
   },
   "outputs": [
    {
     "name": "stdout",
     "output_type": "stream",
     "text": [
      "Overwriting mrjob_sssp.py\n"
     ]
    }
   ],
   "source": [
    "%%writefile mrjob_sssp.py\n",
    "\n",
    "#!/usr/bin/env python\n",
    "\n",
    "from mrjob.job import MRJob\n",
    "from mrjob.step import MRStep\n",
    "from mrjob.compat import get_jobconf_value\n",
    "from ast import literal_eval\n",
    "import numpy as np\n",
    "import sys\n",
    "\n",
    "class SSSP(MRJob):\n",
    "    visited_nodes = []\n",
    "    num_visited = 0\n",
    "    def steps(self):\n",
    "        return [\n",
    "            MRStep(mapper=self.mapper,reducer=self.reducer,jobconf={\"mapred.map.tasks\":8,\n",
    "                            \"mapred.reduce.tasks\":8})\n",
    "            \n",
    "               ]\n",
    "    \n",
    "    def mapper(self,_,line):\n",
    "        line = line.replace(\"\\\"\",\"\")\n",
    "        t = line.strip().split('\\t')\n",
    "        node = t[0]\n",
    "        neighbors_str,distance,path,state = t[1].split('|')\n",
    "        if(neighbors_str != 'NULL'):\n",
    "            neighbors = literal_eval(neighbors_str)\n",
    "        else:\n",
    "            neighbors='NULL'\n",
    "        if state == 'Q':\n",
    "            yield node,('{0}|{1}|{2}|{3}'.format(neighbors,distance,path,'V'))\n",
    "            self.visited_nodes.append(node)\n",
    "            if(neighbors != 'NULL'):\n",
    "                for neighbor,weight in neighbors.iteritems():\n",
    "#                     if neighbor in self.visited_nodes:\n",
    "#                         continue\n",
    "                    yield neighbor, ('{0}|{1}|{2}|{3}'.format('NULL',int(distance)+weight,str(path)+'->'+neighbor,'Q'))\n",
    "        else:\n",
    "            yield node,('{0}|{1}|{2}|{3}'.format(neighbors,distance,path,state))\n",
    "        \n",
    "    def reducer(self,key,value):\n",
    "        node = key\n",
    "        count = 0\n",
    "        valList = [val for val in value]\n",
    "        min_dist = sys.maxint\n",
    "        if len(valList) ==1:\n",
    "#             output = '{}\\t{}'.format(node,valList[0])\n",
    "            yield node, valList[0]\n",
    "        else:\n",
    "            neighbors = None\n",
    "            dist = None\n",
    "            path = None\n",
    "            state = None\n",
    "            \n",
    "            for value in valList:\n",
    "                t = value.split(\"|\")\n",
    "                if (int(t[1]) < min_dist):\n",
    "                    distance = t[1]\n",
    "                    path = t[2]\n",
    "                    if (state == 'V'):\n",
    "                        state = 'Q'\n",
    "                    else:\n",
    "                        state = t[3]\n",
    "                    min_dist = int(t[1])\n",
    "                if (t[3] == 'V' or t[3] == 'U'):\n",
    "                    if (t[0] != 'NULL'):\n",
    "                        neighbors = literal_eval(t[0])\n",
    "                    else: neighbors = 'NULL'\n",
    "                else: neighbors=t[0]\n",
    "#             output = '{0}\\t{1}|{2}|{3}|{4}'.format(node,neighbors,distance,path,state)    \n",
    "            yield node, ('{0}|{1}|{2}|{3}'.format(neighbors,distance,path,state))\n",
    "            \n",
    "\n",
    "#         with open('/Users/hetal/programming/W261/UCB_MIDS_W261/hw7/Test.out','a') as f:\n",
    "#             f.write(output)\n",
    "#         f.close()\n",
    "        \n",
    "if __name__ == '__main__':\n",
    "    SSSP.run()  "
   ]
  },
  {
   "cell_type": "code",
   "execution_count": 136,
   "metadata": {
    "collapsed": false
   },
   "outputs": [],
   "source": [
    "#!python mrjob_sssp.py test-foo.txt"
   ]
  },
  {
   "cell_type": "code",
   "execution_count": 88,
   "metadata": {
    "collapsed": false
   },
   "outputs": [
    {
     "name": "stdout",
     "output_type": "stream",
     "text": [
      "Overwriting run_sssp.py\n"
     ]
    }
   ],
   "source": [
    "%%writefile run_sssp.py\n",
    "\n",
    "from mrjob_sssp_init import Graph_init\n",
    "from mrjob_sssp import SSSP\n",
    "import sys\n",
    "\n",
    "#get file name  and starting node\n",
    "if len(sys.argv) >1: start = int(sys.argv[2])\n",
    "infile = sys.argv[1]\n",
    "\n",
    "print start\n",
    "\n",
    "mr_job = Graph_init(args=[infile , '--Frontier',str(start),\n",
    "                    '--no-strict-protocol'])\n",
    "\n",
    "with mr_job.make_runner() as runner: \n",
    "    runner.run()\n",
    "    with open(infile+'out','w') as f:\n",
    "        for line in runner.stream_output():\n",
    "            output =  mr_job.parse_output_line(line)\n",
    "            f.write(line)\n",
    "\n",
    "iter_num = 0\n",
    "last_num_visited = -1\n",
    "while(True):\n",
    "    any_in_queue = 0\n",
    "    total_nodes = 0\n",
    "    total_visited = 0\n",
    "    print \"Iteration:\",iter_num\n",
    "    mr_job = SSSP(args=[infile+'out','--no-strict-protocol'])\n",
    "    with mr_job.make_runner() as runner: \n",
    "        runner.run()\n",
    "        with open(infile+'out','w') as f:\n",
    "            for line in runner.stream_output():\n",
    "                f.write(line)\n",
    "                total_nodes += 1\n",
    "                node,value =  mr_job.parse_output_line(line)\n",
    "                if value.endswith('V'):\n",
    "                    total_visited += 1\n",
    "                if value.endswith('Q'):\n",
    "                    any_in_queue += 1\n",
    "                print node,value\n",
    "        f.close()\n",
    "        iter_num +=1\n",
    "        print \"Total Nodes:\",total_nodes\n",
    "        print \"Number of Visited Nodes:\",total_visited\n",
    "        if (any_in_queue > 0):\n",
    "            print \"Continue iteration as queued nodes left to visit\"\n",
    "            continue;\n",
    "        if (total_nodes == total_visited ):\n",
    "            print \"Breaking out of loop as visited all nodes\"        \n",
    "            break;\n",
    "        if (last_num_visited == total_visited ):\n",
    "            print \"Breaking out of loop as num visited is unchanged across iterations\"        \n",
    "            break;\n",
    "        last_num_visited = total_visited\n",
    "        if(iter_num==20): break\n",
    "    \n"
   ]
  },
  {
   "cell_type": "code",
   "execution_count": 77,
   "metadata": {
    "collapsed": false
   },
   "outputs": [
    {
     "name": "stdout",
     "output_type": "stream",
     "text": [
      "1\n",
      "Iteration: 0\n",
      "1 {'2': 1, '5': 1}|0|1|V\n",
      "2 {'1': 1, '3': 1, '5': 1, '4': 1}|1|1->2|Q\n",
      "3 {'2': 1, '4': 1}|9223372036854775807|1|U\n",
      "4 {'3': 1, '2': 1, '5': 1}|9223372036854775807|1|U\n",
      "5 {'1': 1, '2': 1, '4': 1}|1|1->5|Q\n",
      "Total Nodes: 5\n",
      "Number of Visited Nodes: 1\n",
      "Continue iteration as queued nodes left to visit\n",
      "Iteration: 1\n",
      "1 {'2': 1, '5': 1}|0|1|V\n",
      "2 {'1': 1, '3': 1, '5': 1, '4': 1}|1|1->2|V\n",
      "3 {'2': 1, '4': 1}|2|1->2->3|Q\n",
      "4 {'3': 1, '2': 1, '5': 1}|2|1->2->4|Q\n",
      "5 {'1': 1, '2': 1, '4': 1}|1|1->5|V\n",
      "Total Nodes: 5\n",
      "Number of Visited Nodes: 3\n",
      "Continue iteration as queued nodes left to visit\n",
      "Iteration: 2\n",
      "1 {'2': 1, '5': 1}|0|1|V\n",
      "2 {'1': 1, '3': 1, '5': 1, '4': 1}|1|1->2|V\n",
      "3 {'2': 1, '4': 1}|2|1->2->3|V\n",
      "4 {'3': 1, '2': 1, '5': 1}|2|1->2->4|V\n",
      "5 {'1': 1, '2': 1, '4': 1}|1|1->5|V\n",
      "Total Nodes: 5\n",
      "Number of Visited Nodes: 5\n",
      "Breaking out of loop as visited all nodes\n"
     ]
    }
   ],
   "source": [
    "!python run_sssp.py undirected_toy.txt 1"
   ]
  },
  {
   "cell_type": "code",
   "execution_count": 78,
   "metadata": {
    "collapsed": false
   },
   "outputs": [
    {
     "name": "stdout",
     "output_type": "stream",
     "text": [
      "1\n",
      "Iteration: 0\n",
      "1 {'2': 1, '6': 1}|0|1|V\n",
      "2 {'1': 1, '3': 1, '4': 1}|1|1->2|Q\n",
      "3 {'2': 1, '4': 1}|9223372036854775807|1|U\n",
      "4 {'2': 1, '5': 1}|9223372036854775807|1|U\n",
      "5 {'1': 1, '2': 1, '4': 1}|9223372036854775807|1|U\n",
      "6 NULL|1|1->6|Q\n",
      "Total Nodes: 6\n",
      "Number of Visited Nodes: 1\n",
      "Continue iteration as queued nodes left to visit\n",
      "Iteration: 1\n",
      "1 {'2': 1, '6': 1}|0|1|V\n",
      "2 {'1': 1, '3': 1, '4': 1}|1|1->2|V\n",
      "3 {'2': 1, '4': 1}|2|1->2->3|Q\n",
      "4 {'2': 1, '5': 1}|2|1->2->4|Q\n",
      "5 {'1': 1, '2': 1, '4': 1}|9223372036854775807|1|U\n",
      "6 NULL|1|1->6|V\n",
      "Total Nodes: 6\n",
      "Number of Visited Nodes: 3\n",
      "Continue iteration as queued nodes left to visit\n",
      "Iteration: 2\n",
      "1 {'2': 1, '6': 1}|0|1|V\n",
      "2 {'1': 1, '3': 1, '4': 1}|1|1->2|V\n",
      "3 {'2': 1, '4': 1}|2|1->2->3|V\n",
      "4 {'2': 1, '5': 1}|2|1->2->4|V\n",
      "5 {'1': 1, '2': 1, '4': 1}|3|1->2->4->5|Q\n",
      "6 NULL|1|1->6|V\n",
      "Total Nodes: 6\n",
      "Number of Visited Nodes: 5\n",
      "Continue iteration as queued nodes left to visit\n",
      "Iteration: 3\n",
      "1 {'2': 1, '6': 1}|0|1|V\n",
      "2 {'1': 1, '3': 1, '4': 1}|1|1->2|V\n",
      "3 {'2': 1, '4': 1}|2|1->2->3|V\n",
      "4 {'2': 1, '5': 1}|2|1->2->4|V\n",
      "5 {'1': 1, '2': 1, '4': 1}|3|1->2->4->5|V\n",
      "6 NULL|1|1->6|V\n",
      "Total Nodes: 6\n",
      "Number of Visited Nodes: 6\n",
      "Breaking out of loop as visited all nodes\n"
     ]
    }
   ],
   "source": [
    "!python run_sssp.py directed_toy.txt 1"
   ]
  },
  {
   "cell_type": "code",
   "execution_count": 137,
   "metadata": {
    "collapsed": false
   },
   "outputs": [
    {
     "name": "stdout",
     "output_type": "stream",
     "text": [
      "1\t{'2': 1, '6': 1}\r\n",
      "2\t{'3': 1, '7': 1}\r\n",
      "3\t{'4': 1, '5': 1, '11': 10}\r\n",
      "4\t{'10': 5}\r\n",
      "5\t{'8': 1}\r\n",
      "6\t{'5': 1, '7': 1}\r\n",
      "7\t{'9': 1}\r\n",
      "8\t{'10': 1}\r\n",
      "9\t{}\r\n",
      "10\t{'9':1, '11': 1}\r\n",
      "11\t{}\r\n"
     ]
    }
   ],
   "source": [
    "! cat test_directed.txt"
   ]
  },
  {
   "cell_type": "code",
   "execution_count": 79,
   "metadata": {
    "collapsed": false
   },
   "outputs": [
    {
     "name": "stdout",
     "output_type": "stream",
     "text": [
      "2\n",
      "Iteration: 0\n",
      "1 {'2': 1, '6': 1}|9223372036854775807|2|U\n",
      "10 {'9': 1, '11': 1}|9223372036854775807|2|U\n",
      "11 {}|9223372036854775807|2|U\n",
      "2 {'3': 1, '7': 1}|0|2|V\n",
      "3 {'11': 10, '5': 1, '4': 1}|1|2->3|Q\n",
      "4 {'10': 5}|9223372036854775807|2|U\n",
      "5 {'8': 1}|9223372036854775807|2|U\n",
      "6 {'5': 1, '7': 1}|9223372036854775807|2|U\n",
      "7 {'9': 1}|1|2->7|Q\n",
      "8 {'10': 1}|9223372036854775807|2|U\n",
      "9 {}|9223372036854775807|2|U\n",
      "Total Nodes: 11\n",
      "Number of Visited Nodes: 1\n",
      "Continue iteration as queued nodes left to visit\n",
      "Iteration: 1\n",
      "1 {'2': 1, '6': 1}|9223372036854775807|2|U\n",
      "10 {'9': 1, '11': 1}|9223372036854775807|2|U\n",
      "11 {}|11|2->3->11|Q\n",
      "2 {'3': 1, '7': 1}|0|2|V\n",
      "3 {'11': 10, '5': 1, '4': 1}|1|2->3|V\n",
      "4 {'10': 5}|2|2->3->4|Q\n",
      "5 {'8': 1}|2|2->3->5|Q\n",
      "6 {'5': 1, '7': 1}|9223372036854775807|2|U\n",
      "7 {'9': 1}|1|2->7|V\n",
      "8 {'10': 1}|9223372036854775807|2|U\n",
      "9 {}|2|2->7->9|Q\n",
      "Total Nodes: 11\n",
      "Number of Visited Nodes: 3\n",
      "Continue iteration as queued nodes left to visit\n",
      "Iteration: 2\n",
      "1 {'2': 1, '6': 1}|9223372036854775807|2|U\n",
      "10 {'9': 1, '11': 1}|7|2->3->4->10|Q\n",
      "11 {}|11|2->3->11|V\n",
      "2 {'3': 1, '7': 1}|0|2|V\n",
      "3 {'11': 10, '5': 1, '4': 1}|1|2->3|V\n",
      "4 {'10': 5}|2|2->3->4|V\n",
      "5 {'8': 1}|2|2->3->5|V\n",
      "6 {'5': 1, '7': 1}|9223372036854775807|2|U\n",
      "7 {'9': 1}|1|2->7|V\n",
      "8 {'10': 1}|3|2->3->5->8|Q\n",
      "9 {}|2|2->7->9|V\n",
      "Total Nodes: 11\n",
      "Number of Visited Nodes: 7\n",
      "Continue iteration as queued nodes left to visit\n",
      "Iteration: 3\n",
      "1 {'2': 1, '6': 1}|9223372036854775807|2|U\n",
      "10 {'9': 1, '11': 1}|4|2->3->5->8->10|Q\n",
      "11 {}|8|2->3->4->10->11|Q\n",
      "2 {'3': 1, '7': 1}|0|2|V\n",
      "3 {'11': 10, '5': 1, '4': 1}|1|2->3|V\n",
      "4 {'10': 5}|2|2->3->4|V\n",
      "5 {'8': 1}|2|2->3->5|V\n",
      "6 {'5': 1, '7': 1}|9223372036854775807|2|U\n",
      "7 {'9': 1}|1|2->7|V\n",
      "8 {'10': 1}|3|2->3->5->8|V\n",
      "9 {}|2|2->7->9|V\n",
      "Total Nodes: 11\n",
      "Number of Visited Nodes: 7\n",
      "Continue iteration as queued nodes left to visit\n",
      "Iteration: 4\n",
      "1 {'2': 1, '6': 1}|9223372036854775807|2|U\n",
      "10 {'9': 1, '11': 1}|4|2->3->5->8->10|V\n",
      "11 {}|5|2->3->5->8->10->11|Q\n",
      "2 {'3': 1, '7': 1}|0|2|V\n",
      "3 {'11': 10, '5': 1, '4': 1}|1|2->3|V\n",
      "4 {'10': 5}|2|2->3->4|V\n",
      "5 {'8': 1}|2|2->3->5|V\n",
      "6 {'5': 1, '7': 1}|9223372036854775807|2|U\n",
      "7 {'9': 1}|1|2->7|V\n",
      "8 {'10': 1}|3|2->3->5->8|V\n",
      "9 {}|2|2->7->9|V\n",
      "Total Nodes: 11\n",
      "Number of Visited Nodes: 8\n",
      "Continue iteration as queued nodes left to visit\n",
      "Iteration: 5\n",
      "1 {'2': 1, '6': 1}|9223372036854775807|2|U\n",
      "10 {'9': 1, '11': 1}|4|2->3->5->8->10|V\n",
      "11 {}|5|2->3->5->8->10->11|V\n",
      "2 {'3': 1, '7': 1}|0|2|V\n",
      "3 {'11': 10, '5': 1, '4': 1}|1|2->3|V\n",
      "4 {'10': 5}|2|2->3->4|V\n",
      "5 {'8': 1}|2|2->3->5|V\n",
      "6 {'5': 1, '7': 1}|9223372036854775807|2|U\n",
      "7 {'9': 1}|1|2->7|V\n",
      "8 {'10': 1}|3|2->3->5->8|V\n",
      "9 {}|2|2->7->9|V\n",
      "Total Nodes: 11\n",
      "Number of Visited Nodes: 9\n",
      "Iteration: 6\n",
      "1 {'2': 1, '6': 1}|9223372036854775807|2|U\n",
      "10 {'9': 1, '11': 1}|4|2->3->5->8->10|V\n",
      "11 {}|5|2->3->5->8->10->11|V\n",
      "2 {'3': 1, '7': 1}|0|2|V\n",
      "3 {'11': 10, '5': 1, '4': 1}|1|2->3|V\n",
      "4 {'10': 5}|2|2->3->4|V\n",
      "5 {'8': 1}|2|2->3->5|V\n",
      "6 {'5': 1, '7': 1}|9223372036854775807|2|U\n",
      "7 {'9': 1}|1|2->7|V\n",
      "8 {'10': 1}|3|2->3->5->8|V\n",
      "9 {}|2|2->7->9|V\n",
      "Total Nodes: 11\n",
      "Number of Visited Nodes: 9\n",
      "Breaking out of loop as num visited is unchanged across iterations\n"
     ]
    }
   ],
   "source": [
    "!python run_sssp.py test_directed.txt 2"
   ]
  },
  {
   "cell_type": "markdown",
   "metadata": {},
   "source": [
    "### ==Main dataset 1: NLTK synonyms==\n",
    "\n",
    "In the next part of this assignment you will explore a network derived from\n",
    "the NLTK synonym database used for evaluation in HW 5. At a high level, this\n",
    "network is undirected, defined so that there exists link between two nodes/words \n",
    "if the pair or words are a synonym. These data may be found at the location:\n",
    "\n",
    "s3://ucb-mids-mls-networks/synNet/synNet.txt\n",
    "\n",
    "s3://ucb-mids-mls-networks/synNet/indices.txt\n",
    "\n",
    "On under the Data Subfolder for HW7 on Dropbox with the same file names\n",
    "\n",
    "where synNet.txt contains a sparse representation of the network:\n",
    "\n",
    "(index) \\t (dictionary of links)\n",
    "\n",
    "in indexed form, and indices.txt contains a lookup list\n",
    "\n",
    "(word) \\t (index)\n",
    "\n",
    "of indices and words. This network is small enough for you to explore and run\n",
    "scripts locally, but will also be good for a systems test (for later) on AWS.\n",
    "\n",
    "In the dictionary, target nodes are keys, link weights are values \n",
    "(here, all weights are 1, i.e., the network is unweighted)."
   ]
  },
  {
   "cell_type": "code",
   "execution_count": null,
   "metadata": {
    "collapsed": true
   },
   "outputs": [],
   "source": []
  },
  {
   "cell_type": "markdown",
   "metadata": {},
   "source": [
    "### HW 7.1: Exploratory data analysis (NLTK synonyms)===\n",
    "\n",
    "Using MRJob, explore the synonyms network data.\n",
    "Consider plotting the degree distribution (does it follow a power law?),\n",
    "and determine some of the key features, like:\n",
    "\n",
    "number of nodes, \n",
    "\n",
    "number links,\n",
    "\n",
    "or the average degree (i.e., the average number of links per node),\n",
    "etc...\n",
    "\n",
    "As you develop your code, please be sure to run it locally first (though on the whole dataset). \n",
    "Once you have gotten you code to run locally, deploy it on AWS as a systems test\n",
    "in preparation for our next dataset (which will require AWS)."
   ]
  },
  {
   "cell_type": "code",
   "execution_count": null,
   "metadata": {
    "collapsed": false
   },
   "outputs": [],
   "source": [
    "print \" Graph Adjacency List\"\n",
    "!head -5 ./synNet/synNet.txt\n",
    "\n",
    "print\"\\n Index list\"\n",
    "!head -5 ./synNet/indices.txt"
   ]
  },
  {
   "cell_type": "code",
   "execution_count": 142,
   "metadata": {
    "collapsed": false
   },
   "outputs": [
    {
     "name": "stdout",
     "output_type": "stream",
     "text": [
      "Overwriting mrjob_synNet_eda.py\n"
     ]
    }
   ],
   "source": [
    "%%writefile mrjob_synNet_eda.py\n",
    "\n",
    "from mrjob.job import MRJob\n",
    "from mrjob.step import MRStep\n",
    "from mrjob.compat import get_jobconf_value\n",
    "from ast import literal_eval\n",
    "import numpy as np\n",
    "import sys\n",
    "\n",
    "class EDA(MRJob):\n",
    "    visited_nodes = []\n",
    "    num_visited = 0\n",
    "    def steps(self):\n",
    "        return [\n",
    "            MRStep(mapper=self.mapper,combiner=self.combiner,reducer=self.reducer,\n",
    "                   jobconf={\n",
    "                            'mapreduce.job.output.key.comparator.class': 'org.apache.hadoop.mapred.lib.KeyFieldBasedComparator',\n",
    "                            'mapreduce.partition.keycomparator.options': '-k1,1n',\n",
    "                            }\n",
    "                  )\n",
    "               ]\n",
    "    \n",
    "    def mapper(self,_,line):\n",
    "        line = line.replace(\"\\\"\",\"\")\n",
    "        t = line.strip().split('\\t')\n",
    "        node = t[0]\n",
    "        neighbors = literal_eval(t[1])\n",
    "        num_links = len(neighbors)\n",
    "        self.increment_counter('graph', 'links', num_links)\n",
    "        yield(num_links,1)\n",
    "        for neighbor in neighbors:\n",
    "            yield 'Nodes',neighbor\n",
    "        \n",
    "    \n",
    "    def combiner(self,key,value):\n",
    "        if key != 'Nodes' :\n",
    "            yield key,sum(value)\n",
    "        else :\n",
    "            for val in value:\n",
    "                yield key, val\n",
    "        \n",
    "        \n",
    "    def reducer(self,key,value):\n",
    "        if key != 'Nodes':\n",
    "            yield key,sum(value)\n",
    "        else :\n",
    "            self.increment_counter('graph', 'nodes', len(set(value)))\n",
    "        \n",
    "if __name__ == '__main__':\n",
    "    EDA.run()  "
   ]
  },
  {
   "cell_type": "code",
   "execution_count": 144,
   "metadata": {
    "collapsed": false
   },
   "outputs": [],
   "source": [
    "! python mrjob_synNet_eda.py  -r hadoop -q ./synNet/synNet.txt >eda.out"
   ]
  },
  {
   "cell_type": "markdown",
   "metadata": {},
   "source": [
    "### EDA results \n",
    "\n",
    "\n",
    "<img src=\"./img/synNet_eda.jpg\"></img>"
   ]
  },
  {
   "cell_type": "code",
   "execution_count": 145,
   "metadata": {
    "collapsed": true
   },
   "outputs": [],
   "source": [
    "%matplotlib inline"
   ]
  },
  {
   "cell_type": "code",
   "execution_count": 146,
   "metadata": {
    "collapsed": false
   },
   "outputs": [
    {
     "data": {
      "text/plain": [
       "<matplotlib.text.Text at 0x10d1923d0>"
      ]
     },
     "execution_count": 146,
     "metadata": {},
     "output_type": "execute_result"
    },
    {
     "data": {
      "image/png": "[encoded data removed]",
      "text/plain": [
       "<matplotlib.figure.Figure at 0x10d175e50>"
      ]
     },
     "metadata": {},
     "output_type": "display_data"
    }
   ],
   "source": [
    "#plot degree of distribution\n",
    "import pandas as pd\n",
    "from matplotlib import pyplot as plt\n",
    "fig = plt.figure(figsize=(16,6))\n",
    "ax = fig.add_subplot(111)\n",
    "df = pd.read_csv('eda.out',sep='\\t',header=None)\n",
    "df.columns = ['links','nodes']\n",
    "df.set_index('links',inplace=True)\n",
    "df.plot(kind='bar',legend=None,title=\"Degree of Distribution\",ax=ax)\n",
    "plt.xlabel(\"Number of links\")\n",
    "plt.ylabel(\"Number of Nodes\")\n"
   ]
  },
  {
   "cell_type": "code",
   "execution_count": null,
   "metadata": {
    "collapsed": true
   },
   "outputs": [],
   "source": []
  },
  {
   "cell_type": "markdown",
   "metadata": {},
   "source": [
    "### HW 7.2: Shortest path graph distances (NLTK synonyms)===\n",
    "\n",
    "Write (reuse your code from 7.0) an MRJob class to find shortest path graph distances, \n",
    "and apply it to the NLTK synonyms network dataset. \n",
    "\n",
    "Proof your code's function by running the job:\n",
    "\n",
    "- shortest path starting at \"walk\" (index=7827) and ending at \"make\" (index=536),\n",
    "\n",
    "and showing you code's output. Once again, your output should include the path and the distance.\n",
    "\n",
    "As you develop your code, please be sure to run it locally first (though on the whole dataset). \n",
    "Once you have gotten you code to run locally, deploy it on AWS as a systems test\n",
    "in preparation for our next dataset (which will require AWS)."
   ]
  },
  {
   "cell_type": "code",
   "execution_count": null,
   "metadata": {
    "collapsed": false
   },
   "outputs": [],
   "source": []
  },
  {
   "cell_type": "code",
   "execution_count": 130,
   "metadata": {
    "collapsed": false
   },
   "outputs": [
    {
     "name": "stdout",
     "output_type": "stream",
     "text": [
      "Overwriting run_sssp_72.py\n"
     ]
    }
   ],
   "source": [
    "%%writefile run_sssp_72.py\n",
    "\n",
    "from mrjob_sssp_init import Graph_init\n",
    "from mrjob_sssp import SSSP\n",
    "import sys\n",
    "import subprocess\n",
    "\n",
    "\n",
    "def read_indices(idx_file):\n",
    "    tmp_dict={}\n",
    "    with open(idx_file,'r') as f:\n",
    "        for line in f:\n",
    "            t = line.strip().split('\\t')\n",
    "            tmp_dict[t[1]]=t[0]\n",
    "    return tmp_dict\n",
    "\n",
    "#get file name  and starting node\n",
    "if len(sys.argv) == 6: \n",
    "    start = sys.argv[2]\n",
    "    end = sys.argv[3]\n",
    "    program = sys.argv[1]\n",
    "    mode = sys.argv[4]\n",
    "    cluster_id = sys.argv[5]\n",
    "else:\n",
    "    print \"Invalid arguments.\"\n",
    "    sys.exit(-1)\n",
    "\n",
    "print start,end ,mode \n",
    "\n",
    "if(program =='wikipedia'):\n",
    "    s3_source = 's3://hvcemrbucket/input/hw7/all-pages-indexed-out.txt'\n",
    "    s3_path = 's3://hvcemrbucket/input/inter_input/wiki'\n",
    "    index = './wikipedia/indices.txt'\n",
    "    infile = './wikipedia/all-pages-indexed-out.txt'\n",
    "    \n",
    "else:\n",
    "    s3_source = 's3://hvcemrbucket/input/hw7/synNet.txt'\n",
    "    s3_path = 's3://hvcemrbucket/input/inter_input/synNet'\n",
    "    index = './synNet/indices.txt'\n",
    "    infile ='./synNet/synNet.txt'\n",
    "\n",
    "if(mode =='hadoop'):\n",
    "#     mrjobArgs += [\n",
    "#         \"hdfs://localhost:9000/user/hetal/hw7/\" + infile,]\n",
    "    mr_job = Graph_init(args=[\"hdfs://localhost:9000/user/hetal/hw7/\" + infile , '--Frontier',str(start),'-r','hadoop',\n",
    "                    '--no-strict-protocol'])\n",
    "\n",
    "if mode=='emr':\n",
    "#     cmd = 'aws s3 rm s3://hvcemrbucket/input/hw7/synNet --recursive'\n",
    "#     subprocess.call(cmd, shell=True)\n",
    "    outpath = 's3://hvcemrbucket/input/hw7/synNet/'\n",
    "    mr_job = Graph_init(args=[s3_source,\n",
    "                              '--Frontier',str(start),\n",
    "                              '-r','emr',\n",
    "                              '--emr-job-flow-id', cluster_id,\n",
    "                              '--no-strict-protocol',\n",
    "                              '--output-dir',s3_path+'/'\n",
    "                             ])\n",
    "else:\n",
    "    mr_job = Graph_init(args=[infile , '--Frontier',str(start),\n",
    "                    '--no-strict-protocol'])\n",
    "\n",
    "    \n",
    "with mr_job.make_runner() as runner: \n",
    "    runner.run()\n",
    "    if(mode == 'local'):\n",
    "        with open(infile+'out','w') as f:\n",
    "            for line in runner.stream_output():\n",
    "                output =  mr_job.parse_output_line(line)\n",
    "                f.write(line)\n",
    "\n",
    "if(mode=='hadoop'):\n",
    "    cmd = \"hdfs dfs -rm hw7/\"+infile+\"out\"\n",
    "    subprocess.call(cmd, shell=True)\n",
    "    cmd = \"hdfs dfs -copyFromLocal ./\"+infile+\"out hw7/\"\n",
    "    subprocess.call(cmd, shell=True)\n",
    "\n",
    "# if(mode=='emr'):\n",
    "#     inpath = \"s3://hvcemrbucket/input/hw7/synNet\"\n",
    "   \n",
    "            \n",
    "iter_num = 0\n",
    "last_num_visited = -1\n",
    "path_to_end = None\n",
    "path_found = False\n",
    "while(True):\n",
    "    any_in_queue = 0\n",
    "    total_nodes = 0\n",
    "    total_visited = 0\n",
    "    print \"Iteration:\",iter_num\n",
    "    if(mode =='hadoop'):\n",
    "        mr_job = SSSP(args=[\"hdfs://localhost:9000/user/hetal/hw7/\" + infile+'out' , '-r','hadoop','--no-strict-protocol'])\n",
    "    \n",
    "    elif mode=='emr':\n",
    "        \n",
    "        if iter_num == 0:  #first iteration we want to use the original source\n",
    "            s3_source = s3_path + \"/\"\n",
    "        else:  #after first iteration, we want to use the files created from previous iteration\n",
    "            s3_source = s3_path + \"_\" + str(iter_num-1) + \"/\"\n",
    "\n",
    "        #this will be the new location for files created\n",
    "        s3_target = s3_path + \"_\"  + str(iter_num) + \"/\"\n",
    "\n",
    "        mr_job = SSSP(args=[s3_source, \n",
    "                            '-r','emr',\n",
    "                            '--no-strict-protocol',\n",
    "                            '--emr-job-flow-id', cluster_id,\n",
    "                              '--no-strict-protocol',\n",
    "                              '--output-dir',s3_target\n",
    "                           ])\n",
    "    else: \n",
    "        mr_job = SSSP(args=[infile+'out','--no-strict-protocol'])\n",
    "    \n",
    "    with mr_job.make_runner() as runner: \n",
    "        runner.run()\n",
    "        \n",
    "        with open(infile+'out','w') as f:\n",
    "            for line in runner.stream_output():\n",
    "                if mode == 'local': f.write(line)\n",
    "                total_nodes += 1\n",
    "                node,value =  mr_job.parse_output_line(line)\n",
    "                if value.endswith('V'):\n",
    "                    total_visited += 1\n",
    "                if value.endswith('Q'):\n",
    "                    any_in_queue += 1\n",
    "    #                 print node,value\n",
    "                if(node == end and value.endswith('V')):\n",
    "                    #Given BFS and equal weights we can terminate as soon as we visit the node\n",
    "    #                     print \"Path from start to end :\",value\n",
    "                    path_to_end = value\n",
    "                    path_found = True\n",
    "            f.close()\n",
    "        \n",
    "            if(path_found):\n",
    "                print \"Path found - breaking from loop\"\n",
    "                break\n",
    "\n",
    "            if(mode=='hadoop'):\n",
    "                cmd = \"hdfs dfs -rm hw7/\"+infile+\"out\"\n",
    "                subprocess.call(cmd, shell=True)\n",
    "                cmd = \"hdfs dfs -copyFromLocal ./\"+infile+\"out hw7/\"\n",
    "                subprocess.call(cmd, shell=True) \n",
    "\n",
    "            iter_num +=1\n",
    "\n",
    "            if (any_in_queue > 0):\n",
    "                print \"Continue iteration as queued nodes left to visit\"\n",
    "                continue;\n",
    "            if (total_nodes == total_visited ):\n",
    "                print \"Breaking out of loop as visited all nodes, No Path found\"        \n",
    "                break;\n",
    "            if (last_num_visited == total_visited ):\n",
    "                print \"Breaking out of loop as num visited is unchanged across iterations. No Path found\"        \n",
    "                break;\n",
    "            last_num_visited = total_visited\n",
    "\n",
    "if(path_found):\n",
    "    indices = read_indices(index)\n",
    "    t = path_to_end.split('|')\n",
    "    path = t[2]\n",
    "    idx = path.split('->')\n",
    "    tmp_str =\"\"\n",
    "    for i in idx:\n",
    "        word = indices[i]\n",
    "        if tmp_str ==\"\":\n",
    "            tmp_str =word\n",
    "        else:\n",
    "            tmp_str += '->'+word\n",
    "    print tmp_str"
   ]
  },
  {
   "cell_type": "code",
   "execution_count": 119,
   "metadata": {
    "collapsed": false
   },
   "outputs": [
    {
     "name": "stdout",
     "output_type": "stream",
     "text": [
      "using configs in /Users/hetal/.mrjob.conf\n",
      "using existing scratch bucket mrjob-f7f5fce3ffcc49a1\n",
      "using s3://mrjob-f7f5fce3ffcc49a1/tmp/ as our scratch dir on S3\n",
      "Creating persistent job flow to run several jobs in...\n",
      "creating tmp directory /var/folders/91/cjfxt7ys6958qll6vjtgwwfw0000gn/T/no_script.hetal.20160310.024631.691914\n",
      "writing master bootstrap script to /var/folders/91/cjfxt7ys6958qll6vjtgwwfw0000gn/T/no_script.hetal.20160310.024631.691914/b.py\n",
      "Copying non-input files into s3://mrjob-f7f5fce3ffcc49a1/tmp/no_script.hetal.20160310.024631.691914/files/\n",
      "Waiting 5.0s for S3 eventual consistency\n",
      "Creating Elastic MapReduce job flow\n",
      "Can't access IAM API, trying default instance profile: EMR_EC2_DefaultRole\n",
      "Can't access IAM API, trying default service role: EMR_DefaultRole\n",
      "Job flow created with ID: j-7FZ6QR3DYVXI\n",
      "j-7FZ6QR3DYVXI\n"
     ]
    }
   ],
   "source": [
    "!python -m mrjob.tools.emr.create_job_flow"
   ]
  },
  {
   "cell_type": "code",
   "execution_count": 118,
   "metadata": {
    "collapsed": false
   },
   "outputs": [
    {
     "name": "stdout",
     "output_type": "stream",
     "text": [
      "7827 536 local\n",
      "Iteration: 0\n",
      "Continue iteration as queued nodes left to visit\n",
      "Iteration: 1\n",
      "Continue iteration as queued nodes left to visit\n",
      "Iteration: 2\n",
      "Continue iteration as queued nodes left to visit\n",
      "Iteration: 3\n",
      "Path found - breaking from loop\n",
      "walk->pass->Give->make\n"
     ]
    }
   ],
   "source": [
    "!python run_sssp_72.py synNet 7827 536 local none"
   ]
  },
  {
   "cell_type": "code",
   "execution_count": 127,
   "metadata": {
    "collapsed": false
   },
   "outputs": [
    {
     "name": "stdout",
     "output_type": "stream",
     "text": [
      "7827 536 emr\n",
      "No handlers could be found for logger \"mrjob.conf\"\n",
      "Iteration: 0\n",
      "Continue iteration as queued nodes left to visit\n",
      "Iteration: 1\n",
      "Continue iteration as queued nodes left to visit\n",
      "Iteration: 2\n",
      "Continue iteration as queued nodes left to visit\n",
      "Iteration: 3\n",
      "Path found - breaking from loop\n",
      "walk->passes->give->make\n"
     ]
    }
   ],
   "source": [
    "#running job on EMR\n",
    "#!aws s3 rm s3://hvcemrbucket/input/inter_input/ --recursive\n",
    "!python run_sssp_74.py synNet 7827 536 emr j-7FZ6QR3DYVXI"
   ]
  },
  {
   "cell_type": "code",
   "execution_count": null,
   "metadata": {
    "collapsed": true
   },
   "outputs": [],
   "source": []
  },
  {
   "cell_type": "markdown",
   "metadata": {},
   "source": [
    "### Main dataset 2: English Wikipedia\n",
    "\n",
    "For the remainder of this assignment you will explore the English Wikipedia hyperlink network.\n",
    "The dataset is built from the Sept. 2015 XML snapshot of English Wikipedia.\n",
    "For this directed network, a link between articles: \n",
    "\n",
    "A -> B\n",
    "\n",
    "is defined by the existence of a hyperlink in A pointing to B.\n",
    "This network also exists in the indexed format:\n",
    "\n",
    "Data: s3://ucb-mids-mls-networks/wikipedia/all-pages-indexed-out.txt\n",
    "\n",
    "Data: s3://ucb-mids-mls-networks/wikipedia/all-pages-indexed-in.txt\n",
    "\n",
    "Data: s3://ucb-mids-mls-networks/wikipedia/indices.txt\n",
    "\n",
    "On under the Data Subfolder for HW7 on Dropbox with the same file names\n",
    "\n",
    "but has an index with more detailed data:\n",
    "\n",
    "(article name) \\t (index) \\t (in degree) \\t (out degree)\n",
    "\n",
    "In the dictionary, target nodes are keys, link weights are values .\n",
    "Here, a weight indicates the number of time a page links to another.\n",
    "However, for the sake of this assignment, treat this an unweighted network,\n",
    "and set all weights to 1 upon data input."
   ]
  },
  {
   "cell_type": "code",
   "execution_count": null,
   "metadata": {
    "collapsed": true
   },
   "outputs": [],
   "source": []
  },
  {
   "cell_type": "markdown",
   "metadata": {},
   "source": [
    "### HW 7.3: Exploratory data analysis (Wikipedia)===\n",
    "\n",
    "Using MRJob, explore the Wikipedia network data on the AWS cloud. Reuse your code from HW 7.1---does is scale well? \n",
    "Be cautioned that Wikipedia is a directed network, where links are not symmetric. \n",
    "So, even though a node may be linked to, it will not appear as a primary record itself if it has no out-links. \n",
    "This means that you may have to ADJUST your code (depending on its design). \n",
    "To be sure of your code's functionality in this context, run a systems test on the directed_toy.txt network."
   ]
  },
  {
   "cell_type": "code",
   "execution_count": 147,
   "metadata": {
    "collapsed": true
   },
   "outputs": [],
   "source": [
    "! python mrjob_synNet_eda.py  -r hadoop -q ./wikipedia/all-pages-indexed-out.txt > eda.out\n"
   ]
  },
  {
   "cell_type": "markdown",
   "metadata": {},
   "source": [
    "Number of nodes and links\n",
    "<img src='./img/wikipedia.jpg'></img>"
   ]
  },
  {
   "cell_type": "code",
   "execution_count": 154,
   "metadata": {
    "collapsed": false
   },
   "outputs": [
    {
     "data": {
      "text/plain": [
       "(0, 100)"
      ]
     },
     "execution_count": 154,
     "metadata": {},
     "output_type": "execute_result"
    },
    {
     "data": {
      "image/png": "[encoded data removed]",
      "text/plain": [
       "<matplotlib.figure.Figure at 0x123003fd0>"
      ]
     },
     "metadata": {},
     "output_type": "display_data"
    }
   ],
   "source": [
    "#plot degree of distribution\n",
    "import pandas as pd\n",
    "from matplotlib import pyplot as plt\n",
    "fig = plt.figure(figsize=(16,6))\n",
    "ax = fig.add_subplot(111)\n",
    "df = pd.read_csv('eda.out',sep='\\t',header=None)\n",
    "df.columns = ['links','nodes']\n",
    "df.set_index('links',inplace=True)\n",
    "df.plot(kind='bar',legend=None,title=\"Degree of Distribution\",ax=ax)\n",
    "plt.xlabel(\"Number of links\")\n",
    "plt.ylabel(\"Number of Nodes\")\n",
    "plt.xlim([0, 100])"
   ]
  },
  {
   "cell_type": "markdown",
   "metadata": {},
   "source": [
    "### HW 7.4: Shortest path graph distances (Wikipedia)===\n",
    "\n",
    "HW 7.4: Shortest path graph distances (Wikipedia)===\n",
    "\n",
    "Using MRJob, find shortest path graph distances in the Wikipedia network on the AWS cloud.\n",
    "Reuse your code from 7.2, but once again be warned of Wikipedia being a directed network.\n",
    "To be sure of your code's functionality in this context, run a systems test on the directed_toy.txt network.\n",
    "\n",
    "When running your code on the Wikipedia network, proof its function by running the job:\n",
    "\n",
    "- shortest path from \"Ireland\" (index=6176135) to \"University of California, Berkeley\" (index=13466359),\n",
    "\n",
    "and show your code's output. Show the shortest path in terms of just page IDS but also in terms of the name of page (show of your MapReduce join skills!!)\n",
    "\n",
    "Once your code is running, find some other shortest paths and report your results."
   ]
  },
  {
   "cell_type": "code",
   "execution_count": null,
   "metadata": {
    "collapsed": false
   },
   "outputs": [],
   "source": [
    "#currently the code doesnt do join with indices file. It just stores it in memory"
   ]
  },
  {
   "cell_type": "code",
   "execution_count": 140,
   "metadata": {
    "collapsed": false
   },
   "outputs": [
    {
     "name": "stdout",
     "output_type": "stream",
     "text": [
      "6176135 13466359 emr\n",
      "No handlers could be found for logger \"mrjob.conf\"\n",
      "Iteration: 0\n",
      "Continue iteration as queued nodes left to visit\n",
      "Iteration: 1\n",
      "Continue iteration as queued nodes left to visit\n",
      "Iteration: 2\n",
      "Path found - breaking from loop\n",
      "Ireland->Seamus Heaney->University of California, Berkeley\n"
     ]
    }
   ],
   "source": [
    "!python run_sssp_72.py wikipedia 6176135 13466359 emr j-7FZ6QR3DYVXI"
   ]
  },
  {
   "cell_type": "markdown",
   "metadata": {},
   "source": [
    "### HW 7.5: Conceptual exercise: Largest single-source network distances===\n",
    "\n",
    "Suppose you wanted to find the largest network distance from a single source,\n",
    "i.e., a node that is the furthest (but still reachable) from a single source.\n",
    "\n",
    "How would you implement this task? \n",
    "How is this different from finding the shortest path graph distances?\n",
    "\n",
    "Is this task more difficult to implement than the shortest path distance?\n",
    "\n",
    "As you respond, please comment on program structure, runtimes, iterations, general system requirements, etc..."
   ]
  },
  {
   "cell_type": "markdown",
   "metadata": {
    "collapsed": true
   },
   "source": [
    "### Answer\n",
    "Implementation for largest network distance from a single source:\n",
    "\n",
    "    This can be implemented by doing a BFS similar to the shortest path problem. For an unweighted\n",
    "    graph or a graph with equal weights, I would employ the same approach as used for shortest path above.\n",
    "    The minor difference would be that the loop would not terminate when the destination is seen but rather\n",
    "    when there are no more nodes that can be visited or that there are no more \"queued\" nodes for the next\n",
    "    iteration. The latter condition ensures that we do not continue looping for nodes that are not reachable\n",
    "    from the source. The no. of iterations that ran till this point ( the source node would be traversed in\n",
    "    iteration 0 ) would denote the largest network distance to the furthest node. The nodes that were\n",
    "    traversed/visited in the last iteration can be considered the furthest nodes from the source.\n",
    "    For weighted graphs, the same approach can be employed but the condition of termination is different as we \n",
    "    would need to revisit nodes as weights via other paths may be higher. In this scenario, we would re-queue\n",
    "    nodes if the new total weight of the path is higher than the previous value ( unlike the shortest path \n",
    "    solution where the node is re-queued only if the weight is less). Also, unlike unweighted graphs, we need\n",
    "    to track the node and respective path for the highest seen total weight and keep it updated during each\n",
    "    iteration. For weighted graphs, nodes visited in the last iteration need not be the farthest from the source.\n",
    "    \n",
    "    \n",
    "    \n",
    "    \n",
    "     \n",
    "\n",
    "\n",
    "\n",
    "\n",
    "\n",
    "\n",
    "\n",
    "\n",
    "\n",
    "\n",
    "\n",
    "\n",
    "\n"
   ]
  },
  {
   "cell_type": "code",
   "execution_count": null,
   "metadata": {
    "collapsed": true
   },
   "outputs": [],
   "source": []
  },
  {
   "cell_type": "markdown",
   "metadata": {},
   "source": [
    "### HW 7.6: Computational exercise: Largest single-source network distances (optional)===\n",
    "\n",
    "Using MRJob, write a code to find the largest graph distance and distance-maximizing nodes from a single-source.\n",
    "Test your code first on the toy networks and synonyms network to proof its function.\n",
    "\n"
   ]
  },
  {
   "cell_type": "code",
   "execution_count": null,
   "metadata": {
    "collapsed": true
   },
   "outputs": [],
   "source": []
  },
  {
   "cell_type": "code",
   "execution_count": 148,
   "metadata": {
    "collapsed": false
   },
   "outputs": [
    {
     "name": "stdout",
     "output_type": "stream",
     "text": [
      "using configs in /Users/hetal/.mrjob.conf\n",
      "using existing scratch bucket mrjob-f7f5fce3ffcc49a1\n",
      "using s3://mrjob-f7f5fce3ffcc49a1/tmp/ as our scratch dir on S3\n",
      "Terminated job flow j-7FZ6QR3DYVXI\n"
     ]
    }
   ],
   "source": [
    "# Terminate Cluster\n",
    "!python -m mrjob.tools.emr.terminate_job_flow j-7FZ6QR3DYVXI"
   ]
  },
  {
   "cell_type": "code",
   "execution_count": null,
   "metadata": {
    "collapsed": true
   },
   "outputs": [],
   "source": []
  }
 ],
 "metadata": {
  "kernelspec": {
   "display_name": "Python 2",
   "language": "python",
   "name": "python2"
  },
  "language_info": {
   "codemirror_mode": {
    "name": "ipython",
    "version": 2
   },
   "file_extension": ".py",
   "mimetype": "text/x-python",
   "name": "python",
   "nbconvert_exporter": "python",
   "pygments_lexer": "ipython2",
   "version": "2.7.11"
  }
 },
 "nbformat": 4,
 "nbformat_minor": 0
}
