{
 "cells": [
  {
   "cell_type": "markdown",
   "metadata": {},
   "source": [
    "=====DATSCIW261 ASSIGNMENT #5=====\n",
    "\n",
    "MIDS UC Berkeley, Machine Learning at Scale\n",
    "\n",
    "DATSCIW261 ASSIGNMENT #5\n",
    "\n",
    "Version 2016-02-12 (FINAL)\n"
   ]
  },
  {
   "cell_type": "markdown",
   "metadata": {},
   "source": [
    "#### Hetal Chandaria (hetalchandaria@berkeley.edu) \n",
    "\n",
    "W261 - 2 , ASSIGNMENT #5\n",
    "\n",
    "Submission Date : \n",
    "\n",
    "Group : 4"
   ]
  },
  {
   "cell_type": "markdown",
   "metadata": {},
   "source": [
    "#### HW 5.0\n",
    "What is a data warehouse? What is a Star schema? When is it used?"
   ]
  },
  {
   "cell_type": "code",
   "execution_count": null,
   "metadata": {
    "collapsed": true
   },
   "outputs": [],
   "source": []
  },
  {
   "cell_type": "markdown",
   "metadata": {},
   "source": [
    "#### HW 5.1\n",
    "In the database world What is 3NF? Does machine learning use data in 3NF? If so why? \n",
    "In what form does ML consume data?\n",
    "Why would one use log files that are denormalized?"
   ]
  },
  {
   "cell_type": "code",
   "execution_count": null,
   "metadata": {
    "collapsed": false
   },
   "outputs": [],
   "source": []
  },
  {
   "cell_type": "code",
   "execution_count": null,
   "metadata": {
    "collapsed": false
   },
   "outputs": [],
   "source": []
  },
  {
   "cell_type": "markdown",
   "metadata": {},
   "source": [
    "#### HW 5.2\n",
    "Using MRJob, implement a hashside join (memory-backed map-side) for left, \n",
    "right and inner joins. Run your code on the  data used in HW 4.4: (Recall HW 4.4: Find the most frequent visitor of each page using mrjob and the output of 4.2  (i.e., transfromed log file). In this output please include the webpage URL, webpageID and Visitor ID.)\n",
    ":\n",
    "\n",
    "Justify which table you chose as the Left table in this hashside join.\n",
    "\n",
    "Please report the number of rows resulting from:\n",
    "\n",
    "(1) Left joining Table Left with Table Right\n",
    "\n",
    "(2) Right joining Table Left with Table Right\n",
    "\n",
    "(3) Inner joining Table Left with Table Right\n",
    "\n",
    "<span style=\"color: blue\"> Answer: </span>\n",
    "\n",
    "right table = log table of the format page id, customer id \n",
    "left table = url table of the format page id, url\n",
    "\n",
    "The left table is the Page Id's & the corresponding URL,because in memory backed map-side joins the left table is the smaller table of the two tables we want to join.\n"
   ]
  },
  {
   "cell_type": "code",
   "execution_count": 111,
   "metadata": {
    "collapsed": false
   },
   "outputs": [
    {
     "name": "stdout",
     "output_type": "stream",
     "text": [
      "Overwriting leftjoin.py\n"
     ]
    }
   ],
   "source": [
    "%%writefile leftjoin.py\n",
    "\n",
    "from mrjob.job import MRJob\n",
    "from mrjob.step import MRJobStep\n",
    "import csv, re\n",
    "from mrjob.protocol import RawProtocol, ReprProtocol\n",
    "\n",
    "class LeftJoin(MRJob):\n",
    "    left ={}\n",
    "    left_seen = {}\n",
    "    def steps(self):\n",
    "        return [\n",
    "            MRJobStep(mapper_init=self.mapper_init, mapper=self.mapper,mapper_final = self.mapper_final)\n",
    "               ]\n",
    "    \n",
    "    def mapper_init(self):\n",
    "        with open('most_visitors.out') as f:\n",
    "            self.left = {k: v for line in f for (k, v) in (line.replace('\"', '').strip().split('\\t'),)}\n",
    "        self.left_seen = dict.fromkeys(self.left, 0)\n",
    "    \n",
    "    def mapper(self, line_no, line):\n",
    "        cell = line.strip().split(',')\n",
    "        cust_id = self.left.get(cell[0],'NA')\n",
    "        if cust_id != 'NA':\n",
    "            self.left_seen[cell[0]] = 1\n",
    "            yield cell[0], (cell[1],cust_id)\n",
    "    \n",
    "    def mapper_final(self):\n",
    "        for pageid, seen in self.left_seen.iteritems():\n",
    "            if seen == 1:\n",
    "                continue\n",
    "            yield pageid, (self.left.get(pageid),'NULL')\n",
    "                \n",
    "                   \n",
    "if __name__ == '__main__':\n",
    "    LeftJoin.run()"
   ]
  },
  {
   "cell_type": "code",
   "execution_count": 112,
   "metadata": {
    "collapsed": false
   },
   "outputs": [
    {
     "name": "stdout",
     "output_type": "stream",
     "text": [
      "Left Join\n",
      "Number of rows for Left join:\n",
      "285\n",
      "\n",
      "Sample data\n",
      "\"1215\"\t[\"/developer\", \"12577\"]\n",
      "\"1279\"\t[\"/msgolf\", \"31062\"]\n",
      "\"1239\"\t[\"/msconsult\", \"15361\"]\n",
      "\"1282\"\t[\"/home\", \"39877\"]\n",
      "\"1251\"\t[\"/referencesupport\", \"18941\"]\n",
      "\"1121\"\t[\"/magazine\", \"10241\"]\n",
      "\"1083\"\t[\"/msaccesssupport\", \"10127\"]\n",
      "\"1145\"\t[\"/vfoxprosupport\", \"10418\"]\n",
      "\"1276\"\t[\"/vtestsupport\", \"29654\"]\n",
      "\"1200\"\t[\"/benelux\", \"11674\"]\n"
     ]
    }
   ],
   "source": [
    "!python ./leftjoin.py processed_urls.data -q >left.out\n",
    "\n",
    "print \"Left Join\"\n",
    "\n",
    "print \"Number of rows for Left join:\" \n",
    "!wc -l left.out |awk '{print $1}'\n",
    "print \"\\nSample data\"\n",
    "!head left.out"
   ]
  },
  {
   "cell_type": "code",
   "execution_count": 109,
   "metadata": {
    "collapsed": false
   },
   "outputs": [
    {
     "name": "stdout",
     "output_type": "stream",
     "text": [
      "Overwriting innerjoin.py\n"
     ]
    }
   ],
   "source": [
    "%%writefile innerjoin.py\n",
    "\n",
    "from mrjob.job import MRJob\n",
    "from mrjob.step import MRJobStep\n",
    "import csv, re\n",
    "from mrjob.protocol import RawProtocol, ReprProtocol\n",
    "\n",
    "class InnerJoin(MRJob):\n",
    "    def steps(self):\n",
    "        return [\n",
    "            MRJobStep(mapper_init=self.mapper_init, mapper=self.mapper)\n",
    "               ]\n",
    "    \n",
    "    def mapper_init(self):\n",
    "        with open('most_visitors.out') as f:\n",
    "            self.left = {k: v for line in f for (k, v) in (line.replace('\"', '').strip().split('\\t'),)}\n",
    "        \n",
    "    \n",
    "    def mapper(self, line_no, line):\n",
    "        cell = line.strip().split(',')\n",
    "        url = self.left.get(cell[0],'NA')\n",
    "        if url != 'NA':\n",
    "            yield cell[0], (cell[1],self.left.get(cell[0],'NA'))\n",
    "                   \n",
    "if __name__ == '__main__':\n",
    "    InnerJoin.run()"
   ]
  },
  {
   "cell_type": "code",
   "execution_count": 110,
   "metadata": {
    "collapsed": false
   },
   "outputs": [
    {
     "name": "stdout",
     "output_type": "stream",
     "text": [
      "Inner Join\n",
      "Number of rows for inner join:\n",
      "285\n",
      "\n",
      "Sample data\n",
      "\"1215\"\t[\"/developer\", \"12577\"]\n",
      "\"1279\"\t[\"/msgolf\", \"31062\"]\n",
      "\"1239\"\t[\"/msconsult\", \"15361\"]\n",
      "\"1282\"\t[\"/home\", \"39877\"]\n",
      "\"1251\"\t[\"/referencesupport\", \"18941\"]\n",
      "\"1121\"\t[\"/magazine\", \"10241\"]\n",
      "\"1083\"\t[\"/msaccesssupport\", \"10127\"]\n",
      "\"1145\"\t[\"/vfoxprosupport\", \"10418\"]\n",
      "\"1276\"\t[\"/vtestsupport\", \"29654\"]\n",
      "\"1200\"\t[\"/benelux\", \"11674\"]\n"
     ]
    }
   ],
   "source": [
    "!python ./innerjoin.py processed_urls.data -q >inner.out\n",
    "\n",
    "print \"Inner Join\"\n",
    "\n",
    "print \"Number of rows for inner join:\" \n",
    "!wc -l inner.out |awk '{print $1}'\n",
    "print \"\\nSample data\"\n",
    "!head inner.out"
   ]
  },
  {
   "cell_type": "code",
   "execution_count": 107,
   "metadata": {
    "collapsed": false
   },
   "outputs": [
    {
     "name": "stdout",
     "output_type": "stream",
     "text": [
      "Overwriting rightjoin.py\n"
     ]
    }
   ],
   "source": [
    "%%writefile rightjoin.py\n",
    "\n",
    "from mrjob.job import MRJob\n",
    "from mrjob.step import MRJobStep\n",
    "import csv, re\n",
    "from mrjob.protocol import RawProtocol, ReprProtocol\n",
    "\n",
    "class RightJoin(MRJob):\n",
    "    def steps(self):\n",
    "        return [\n",
    "            MRJobStep(mapper_init=self.mapper_init, mapper=self.mapper)\n",
    "               ]\n",
    "    \n",
    "    def mapper_init(self):\n",
    "        with open('most_visitors.out') as f:\n",
    "            self.left = {k: v for line in f for (k, v) in (line.replace('\"', '').strip().split('\\t'),)}\n",
    "    \n",
    "    def mapper(self, line_no, line):\n",
    "        cell = line.strip().split(',')\n",
    "        yield cell[0], (cell[1],self.left.get(cell[0],'NULL'))\n",
    "                   \n",
    "if __name__ == '__main__':\n",
    "    RightJoin.run()"
   ]
  },
  {
   "cell_type": "code",
   "execution_count": 108,
   "metadata": {
    "collapsed": false
   },
   "outputs": [
    {
     "name": "stdout",
     "output_type": "stream",
     "text": [
      "Right Join\n",
      "Number of rows for Right join:\n",
      "294\n",
      "\n",
      "Sample data\n",
      "\"1287\"\t[\"/autoroute\", \"NULL\"]\n",
      "\"1288\"\t[\"/library\", \"NULL\"]\n",
      "\"1289\"\t[\"/masterchef\", \"NULL\"]\n",
      "\"1297\"\t[\"/centroam\", \"NULL\"]\n",
      "\"1215\"\t[\"/developer\", \"12577\"]\n",
      "\"1279\"\t[\"/msgolf\", \"31062\"]\n",
      "\"1239\"\t[\"/msconsult\", \"15361\"]\n",
      "\"1282\"\t[\"/home\", \"39877\"]\n",
      "\"1251\"\t[\"/referencesupport\", \"18941\"]\n",
      "\"1121\"\t[\"/magazine\", \"10241\"]\n"
     ]
    }
   ],
   "source": [
    "!python ./rightjoin.py processed_urls.data -q >right.out\n",
    "\n",
    "print \"Right Join\"\n",
    "\n",
    "print \"Number of rows for Right join:\" \n",
    "!wc -l right.out |awk '{print $1}'\n",
    "print \"\\nSample data\"\n",
    "!head right.out"
   ]
  },
  {
   "cell_type": "code",
   "execution_count": null,
   "metadata": {
    "collapsed": false
   },
   "outputs": [],
   "source": []
  },
  {
   "cell_type": "code",
   "execution_count": null,
   "metadata": {
    "collapsed": true
   },
   "outputs": [],
   "source": []
  }
 ],
 "metadata": {
  "kernelspec": {
   "display_name": "Python 2",
   "language": "python",
   "name": "python2"
  },
  "language_info": {
   "codemirror_mode": {
    "name": "ipython",
    "version": 2
   },
   "file_extension": ".py",
   "mimetype": "text/x-python",
   "name": "python",
   "nbconvert_exporter": "python",
   "pygments_lexer": "ipython2",
   "version": "2.7.11"
  }
 },
 "nbformat": 4,
 "nbformat_minor": 0
}
